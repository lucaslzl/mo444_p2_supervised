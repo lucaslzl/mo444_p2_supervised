{
 "cells": [
  {
   "cell_type": "markdown",
   "metadata": {},
   "source": [
    "<img src=\"unicamp.png\" width=\"150\" height=\"150\">"
   ]
  },
  {
   "cell_type": "markdown",
   "metadata": {},
   "source": [
    "## MO444/MC886 - Aprendizado de Máquina e Reconhecimento de Padrões\n",
    "\n",
    "Esse trabalho foi feito pelos seguintes membros:\n",
    "\n",
    "- Lucas Zanco Ladeira - 188951\n",
    "- Rafael Scherer - 204990 \n",
    "\n",
    "O código original deste projeto está disponível no [repositório do Github](https://github.com/lucaslzl/mo444_p2_supervised). "
   ]
  },
  {
   "cell_type": "markdown",
   "metadata": {},
   "source": [
    "## Modelos Supervisionados"
   ]
  },
  {
   "cell_type": "markdown",
   "metadata": {},
   "source": [
    "## Part I - Tarefa de Regressão\n",
    "\n",
    "<b>Declaração do problema</b> <br>\"Considere que você é um goleiro em uma partida de futebol robótico na RoboCup Teen Size League. Seu oponente vai chutar uma bola contra você. Seu objetivo é prever a posição da bola para interceptá-la, ou seja, defender seu gol!\""
   ]
  },
  {
   "cell_type": "markdown",
   "metadata": {},
   "source": [
    "### Descrição dos Dados\n",
    "\n",
    "Para este projeto foram utilizadas 2 bases de dados, sendo: <i>kick1.dat</i> e <i>kick2.dat</i>. Os dados compreendem a posição (x, y, z) da bola a cada 1/3 frames com uma frequência de 60 frames por segundo de um mesmo chute. A variável <i>x</i> compreende a posição da bola em relação a extensão do gol. A variável <i>y<i/> compreende a distância da bola até o gol. A variável <i>z</i> compreende a distância da bola em relação ao solo. Os valores das variáveis se estendem sendo <i>x = -3 até +3</i>, <i>y = 0 até 2,1</i>, <i>z = 0 até 0,3</i>. Para facilitar a busca pela posição final da bola (y = 0) o valor de y é \"negativado\". Sendo assim, ele cresce de um valor negativo até 0. É importante descrever os dados, de forma que seja possível observar a variação em cada base de dados."
   ]
  },
  {
   "cell_type": "code",
   "execution_count": 1,
   "metadata": {},
   "outputs": [
    {
     "data": {
      "text/html": [
       "<div>\n",
       "<style scoped>\n",
       "    .dataframe tbody tr th:only-of-type {\n",
       "        vertical-align: middle;\n",
       "    }\n",
       "\n",
       "    .dataframe tbody tr th {\n",
       "        vertical-align: top;\n",
       "    }\n",
       "\n",
       "    .dataframe thead th {\n",
       "        text-align: right;\n",
       "    }\n",
       "</style>\n",
       "<table border=\"1\" class=\"dataframe\">\n",
       "  <thead>\n",
       "    <tr style=\"text-align: right;\">\n",
       "      <th></th>\n",
       "      <th>x</th>\n",
       "      <th>y</th>\n",
       "      <th>z</th>\n",
       "    </tr>\n",
       "  </thead>\n",
       "  <tbody>\n",
       "    <tr>\n",
       "      <th>count</th>\n",
       "      <td>20.000000</td>\n",
       "      <td>20.000000</td>\n",
       "      <td>20.000000</td>\n",
       "    </tr>\n",
       "    <tr>\n",
       "      <th>mean</th>\n",
       "      <td>-0.727700</td>\n",
       "      <td>1.576650</td>\n",
       "      <td>0.119600</td>\n",
       "    </tr>\n",
       "    <tr>\n",
       "      <th>std</th>\n",
       "      <td>0.294473</td>\n",
       "      <td>0.295319</td>\n",
       "      <td>0.014605</td>\n",
       "    </tr>\n",
       "    <tr>\n",
       "      <th>min</th>\n",
       "      <td>-1.192000</td>\n",
       "      <td>1.109000</td>\n",
       "      <td>0.103000</td>\n",
       "    </tr>\n",
       "    <tr>\n",
       "      <th>25%</th>\n",
       "      <td>-0.974000</td>\n",
       "      <td>1.328750</td>\n",
       "      <td>0.109500</td>\n",
       "    </tr>\n",
       "    <tr>\n",
       "      <th>50%</th>\n",
       "      <td>-0.742500</td>\n",
       "      <td>1.589500</td>\n",
       "      <td>0.114000</td>\n",
       "    </tr>\n",
       "    <tr>\n",
       "      <th>75%</th>\n",
       "      <td>-0.519000</td>\n",
       "      <td>1.815500</td>\n",
       "      <td>0.128250</td>\n",
       "    </tr>\n",
       "    <tr>\n",
       "      <th>max</th>\n",
       "      <td>-0.210000</td>\n",
       "      <td>2.048000</td>\n",
       "      <td>0.149000</td>\n",
       "    </tr>\n",
       "  </tbody>\n",
       "</table>\n",
       "</div>"
      ],
      "text/plain": [
       "               x          y          z\n",
       "count  20.000000  20.000000  20.000000\n",
       "mean   -0.727700   1.576650   0.119600\n",
       "std     0.294473   0.295319   0.014605\n",
       "min    -1.192000   1.109000   0.103000\n",
       "25%    -0.974000   1.328750   0.109500\n",
       "50%    -0.742500   1.589500   0.114000\n",
       "75%    -0.519000   1.815500   0.128250\n",
       "max    -0.210000   2.048000   0.149000"
      ]
     },
     "execution_count": 1,
     "metadata": {},
     "output_type": "execute_result"
    }
   ],
   "source": [
    "import pandas as pd\n",
    "\n",
    "df = pd.read_csv('./datasets/kick1.dat', sep=' ')\n",
    "\n",
    "df.describe()"
   ]
  },
  {
   "cell_type": "code",
   "execution_count": 2,
   "metadata": {},
   "outputs": [
    {
     "data": {
      "text/html": [
       "<div>\n",
       "<style scoped>\n",
       "    .dataframe tbody tr th:only-of-type {\n",
       "        vertical-align: middle;\n",
       "    }\n",
       "\n",
       "    .dataframe tbody tr th {\n",
       "        vertical-align: top;\n",
       "    }\n",
       "\n",
       "    .dataframe thead th {\n",
       "        text-align: right;\n",
       "    }\n",
       "</style>\n",
       "<table border=\"1\" class=\"dataframe\">\n",
       "  <thead>\n",
       "    <tr style=\"text-align: right;\">\n",
       "      <th></th>\n",
       "      <th>x</th>\n",
       "      <th>y</th>\n",
       "      <th>z</th>\n",
       "    </tr>\n",
       "  </thead>\n",
       "  <tbody>\n",
       "    <tr>\n",
       "      <th>count</th>\n",
       "      <td>20.000000</td>\n",
       "      <td>20.000000</td>\n",
       "      <td>20.000000</td>\n",
       "    </tr>\n",
       "    <tr>\n",
       "      <th>mean</th>\n",
       "      <td>-0.363200</td>\n",
       "      <td>1.576650</td>\n",
       "      <td>0.237800</td>\n",
       "    </tr>\n",
       "    <tr>\n",
       "      <th>std</th>\n",
       "      <td>0.146036</td>\n",
       "      <td>0.295319</td>\n",
       "      <td>0.047159</td>\n",
       "    </tr>\n",
       "    <tr>\n",
       "      <th>min</th>\n",
       "      <td>-0.596000</td>\n",
       "      <td>1.109000</td>\n",
       "      <td>0.145000</td>\n",
       "    </tr>\n",
       "    <tr>\n",
       "      <th>25%</th>\n",
       "      <td>-0.491500</td>\n",
       "      <td>1.328750</td>\n",
       "      <td>0.207750</td>\n",
       "    </tr>\n",
       "    <tr>\n",
       "      <th>50%</th>\n",
       "      <td>-0.361000</td>\n",
       "      <td>1.589500</td>\n",
       "      <td>0.247000</td>\n",
       "    </tr>\n",
       "    <tr>\n",
       "      <th>75%</th>\n",
       "      <td>-0.257000</td>\n",
       "      <td>1.815500</td>\n",
       "      <td>0.280250</td>\n",
       "    </tr>\n",
       "    <tr>\n",
       "      <th>max</th>\n",
       "      <td>-0.105000</td>\n",
       "      <td>2.048000</td>\n",
       "      <td>0.296000</td>\n",
       "    </tr>\n",
       "  </tbody>\n",
       "</table>\n",
       "</div>"
      ],
      "text/plain": [
       "               x          y          z\n",
       "count  20.000000  20.000000  20.000000\n",
       "mean   -0.363200   1.576650   0.237800\n",
       "std     0.146036   0.295319   0.047159\n",
       "min    -0.596000   1.109000   0.145000\n",
       "25%    -0.491500   1.328750   0.207750\n",
       "50%    -0.361000   1.589500   0.247000\n",
       "75%    -0.257000   1.815500   0.280250\n",
       "max    -0.105000   2.048000   0.296000"
      ]
     },
     "execution_count": 2,
     "metadata": {},
     "output_type": "execute_result"
    }
   ],
   "source": [
    "df = pd.read_csv('./datasets/kick2.dat', sep=' ')\n",
    "\n",
    "df.describe()"
   ]
  },
  {
   "cell_type": "markdown",
   "metadata": {},
   "source": [
    "Podemos ver que ambos os chutes começam na esquerda do goleiro, pois tem valor mínimo negativo. Além disso, para a primeira base de dados a altura máxima atingida até o momento com distância <i>y</i> de 1,1 do gol é de metade da altura máxima (1,5). Na segunda base de dados, a altura atingida é de quase máxima (2,9) até a distância de 1,1 do gol."
   ]
  },
  {
   "cell_type": "markdown",
   "metadata": {},
   "source": [
    "### Metodologia\n",
    "\n",
    "Os experimentos são divididos em."
   ]
  },
  {
   "cell_type": "code",
   "execution_count": null,
   "metadata": {},
   "outputs": [],
   "source": []
  },
  {
   "cell_type": "code",
   "execution_count": null,
   "metadata": {},
   "outputs": [],
   "source": []
  },
  {
   "cell_type": "code",
   "execution_count": null,
   "metadata": {},
   "outputs": [],
   "source": []
  },
  {
   "cell_type": "markdown",
   "metadata": {},
   "source": [
    "## Part II - Classification Task\n",
    "\n",
    "<b>Problem statement</b><br>\n",
    "\"You should solve a classification task using supervised learning methods. For this task, you can use libraries that implement the methods you want to use. For this task, we will employ the Pen-Based Recognition of Handwritten Digits Data Set. It is a simple and well-known image bank for image recognition. It consists of 8-by-8-pixel gray-scale images divided into 10 classes of digits.\""
   ]
  },
  {
   "cell_type": "code",
   "execution_count": null,
   "metadata": {},
   "outputs": [],
   "source": []
  },
  {
   "cell_type": "code",
   "execution_count": null,
   "metadata": {},
   "outputs": [],
   "source": []
  }
 ],
 "metadata": {
  "kernelspec": {
   "display_name": "Python 3",
   "language": "python",
   "name": "python3"
  },
  "language_info": {
   "codemirror_mode": {
    "name": "ipython",
    "version": 3
   },
   "file_extension": ".py",
   "mimetype": "text/x-python",
   "name": "python",
   "nbconvert_exporter": "python",
   "pygments_lexer": "ipython3",
   "version": "3.8.7"
  }
 },
 "nbformat": 4,
 "nbformat_minor": 4
}
