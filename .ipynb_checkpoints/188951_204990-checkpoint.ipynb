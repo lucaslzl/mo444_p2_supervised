{
 "cells": [
  {
   "cell_type": "markdown",
   "metadata": {},
   "source": [
    "<img src=\"unicamp.png\" width=\"150\" height=\"150\">"
   ]
  },
  {
   "cell_type": "markdown",
   "metadata": {},
   "source": [
    "## MO444/MC886 - Aprendizado de Máquina e Reconhecimento de Padrões\n",
    "\n",
    "Esse trabalho foi feito pelos seguintes membros:\n",
    "\n",
    "- Lucas Zanco Ladeira - 188951\n",
    "- Rafael Scherer - 204990 \n",
    "\n",
    "O código original deste projeto está disponível no [repositório do Github](https://github.com/lucaslzl/mo444_p2_supervised). "
   ]
  },
  {
   "cell_type": "markdown",
   "metadata": {},
   "source": [
    "## Modelos Supervisionados"
   ]
  },
  {
   "cell_type": "markdown",
   "metadata": {},
   "source": [
    "## Part I - Tarefa de Regressão\n",
    "\n",
    "<b>Declaração do problema</b> <br>\"Considere que você é um goleiro em uma partida de futebol robótico na RoboCup Teen Size League. Seu oponente vai chutar uma bola contra você. Seu objetivo é prever a posição da bola para interceptá-la, ou seja, defender seu gol!\""
   ]
  },
  {
   "cell_type": "markdown",
   "metadata": {},
   "source": [
    "### Descrição dos Dados\n",
    "\n",
    "Para este projeto foram utilizadas 2 bases de dados, sendo: <i>kick1.dat</i> e <i>kick2.dat</i>. Os dados compreendem a posição (x, y, z) da bola a cada 1/3 frames com uma frequência de 60 frames por segundo de um mesmo chute. A variável <i>x</i> compreende a posição da bola em relação a extensão do gol. A variável <i>y<i/> compreende a distância da bola até o gol. A variável <i>z</i> compreende a distância da bola em relação ao solo. Os valores das variáveis se estendem sendo <i>x = -3 até +3</i>, <i>y = 0 até 2.1</i>, <i>z = 0 até 0.3</i>. Para facilitar a busca pela posição final da bola (y = 0) o valor de y é \"negativado\". Sendo assim, ele cresce de um valor negativo até 0. É importante descrever os dados, de forma que seja possível observar a variação em cada base de dados."
   ]
  },
  {
   "cell_type": "code",
   "execution_count": 1,
   "metadata": {
    "pycharm": {
     "name": "#%%\n"
    }
   },
   "outputs": [
    {
     "data": {
      "text/html": [
       "<div>\n",
       "<style scoped>\n",
       "    .dataframe tbody tr th:only-of-type {\n",
       "        vertical-align: middle;\n",
       "    }\n",
       "\n",
       "    .dataframe tbody tr th {\n",
       "        vertical-align: top;\n",
       "    }\n",
       "\n",
       "    .dataframe thead th {\n",
       "        text-align: right;\n",
       "    }\n",
       "</style>\n",
       "<table border=\"1\" class=\"dataframe\">\n",
       "  <thead>\n",
       "    <tr style=\"text-align: right;\">\n",
       "      <th></th>\n",
       "      <th>x</th>\n",
       "      <th>y</th>\n",
       "      <th>z</th>\n",
       "    </tr>\n",
       "  </thead>\n",
       "  <tbody>\n",
       "    <tr>\n",
       "      <th>count</th>\n",
       "      <td>20.000000</td>\n",
       "      <td>20.000000</td>\n",
       "      <td>20.000000</td>\n",
       "    </tr>\n",
       "    <tr>\n",
       "      <th>mean</th>\n",
       "      <td>-0.727700</td>\n",
       "      <td>1.576650</td>\n",
       "      <td>0.119600</td>\n",
       "    </tr>\n",
       "    <tr>\n",
       "      <th>std</th>\n",
       "      <td>0.294473</td>\n",
       "      <td>0.295319</td>\n",
       "      <td>0.014605</td>\n",
       "    </tr>\n",
       "    <tr>\n",
       "      <th>min</th>\n",
       "      <td>-1.192000</td>\n",
       "      <td>1.109000</td>\n",
       "      <td>0.103000</td>\n",
       "    </tr>\n",
       "    <tr>\n",
       "      <th>25%</th>\n",
       "      <td>-0.974000</td>\n",
       "      <td>1.328750</td>\n",
       "      <td>0.109500</td>\n",
       "    </tr>\n",
       "    <tr>\n",
       "      <th>50%</th>\n",
       "      <td>-0.742500</td>\n",
       "      <td>1.589500</td>\n",
       "      <td>0.114000</td>\n",
       "    </tr>\n",
       "    <tr>\n",
       "      <th>75%</th>\n",
       "      <td>-0.519000</td>\n",
       "      <td>1.815500</td>\n",
       "      <td>0.128250</td>\n",
       "    </tr>\n",
       "    <tr>\n",
       "      <th>max</th>\n",
       "      <td>-0.210000</td>\n",
       "      <td>2.048000</td>\n",
       "      <td>0.149000</td>\n",
       "    </tr>\n",
       "  </tbody>\n",
       "</table>\n",
       "</div>"
      ],
      "text/plain": [
       "               x          y          z\n",
       "count  20.000000  20.000000  20.000000\n",
       "mean   -0.727700   1.576650   0.119600\n",
       "std     0.294473   0.295319   0.014605\n",
       "min    -1.192000   1.109000   0.103000\n",
       "25%    -0.974000   1.328750   0.109500\n",
       "50%    -0.742500   1.589500   0.114000\n",
       "75%    -0.519000   1.815500   0.128250\n",
       "max    -0.210000   2.048000   0.149000"
      ]
     },
     "execution_count": 1,
     "metadata": {},
     "output_type": "execute_result"
    }
   ],
   "source": [
    "import pandas as pd\n",
    "\n",
    "df = pd.read_csv('./datasets/kick1.dat', sep=' ')\n",
    "\n",
    "df.describe()"
   ]
  },
  {
   "cell_type": "code",
   "execution_count": 2,
   "metadata": {
    "pycharm": {
     "name": "#%%\n"
    }
   },
   "outputs": [
    {
     "data": {
      "text/html": [
       "<div>\n",
       "<style scoped>\n",
       "    .dataframe tbody tr th:only-of-type {\n",
       "        vertical-align: middle;\n",
       "    }\n",
       "\n",
       "    .dataframe tbody tr th {\n",
       "        vertical-align: top;\n",
       "    }\n",
       "\n",
       "    .dataframe thead th {\n",
       "        text-align: right;\n",
       "    }\n",
       "</style>\n",
       "<table border=\"1\" class=\"dataframe\">\n",
       "  <thead>\n",
       "    <tr style=\"text-align: right;\">\n",
       "      <th></th>\n",
       "      <th>x</th>\n",
       "      <th>y</th>\n",
       "      <th>z</th>\n",
       "    </tr>\n",
       "  </thead>\n",
       "  <tbody>\n",
       "    <tr>\n",
       "      <th>count</th>\n",
       "      <td>20.000000</td>\n",
       "      <td>20.000000</td>\n",
       "      <td>20.000000</td>\n",
       "    </tr>\n",
       "    <tr>\n",
       "      <th>mean</th>\n",
       "      <td>-0.363200</td>\n",
       "      <td>1.576650</td>\n",
       "      <td>0.237800</td>\n",
       "    </tr>\n",
       "    <tr>\n",
       "      <th>std</th>\n",
       "      <td>0.146036</td>\n",
       "      <td>0.295319</td>\n",
       "      <td>0.047159</td>\n",
       "    </tr>\n",
       "    <tr>\n",
       "      <th>min</th>\n",
       "      <td>-0.596000</td>\n",
       "      <td>1.109000</td>\n",
       "      <td>0.145000</td>\n",
       "    </tr>\n",
       "    <tr>\n",
       "      <th>25%</th>\n",
       "      <td>-0.491500</td>\n",
       "      <td>1.328750</td>\n",
       "      <td>0.207750</td>\n",
       "    </tr>\n",
       "    <tr>\n",
       "      <th>50%</th>\n",
       "      <td>-0.361000</td>\n",
       "      <td>1.589500</td>\n",
       "      <td>0.247000</td>\n",
       "    </tr>\n",
       "    <tr>\n",
       "      <th>75%</th>\n",
       "      <td>-0.257000</td>\n",
       "      <td>1.815500</td>\n",
       "      <td>0.280250</td>\n",
       "    </tr>\n",
       "    <tr>\n",
       "      <th>max</th>\n",
       "      <td>-0.105000</td>\n",
       "      <td>2.048000</td>\n",
       "      <td>0.296000</td>\n",
       "    </tr>\n",
       "  </tbody>\n",
       "</table>\n",
       "</div>"
      ],
      "text/plain": [
       "               x          y          z\n",
       "count  20.000000  20.000000  20.000000\n",
       "mean   -0.363200   1.576650   0.237800\n",
       "std     0.146036   0.295319   0.047159\n",
       "min    -0.596000   1.109000   0.145000\n",
       "25%    -0.491500   1.328750   0.207750\n",
       "50%    -0.361000   1.589500   0.247000\n",
       "75%    -0.257000   1.815500   0.280250\n",
       "max    -0.105000   2.048000   0.296000"
      ]
     },
     "execution_count": 2,
     "metadata": {},
     "output_type": "execute_result"
    }
   ],
   "source": [
    "df = pd.read_csv('./datasets/kick2.dat', sep=' ')\n",
    "\n",
    "df.describe()"
   ]
  },
  {
   "cell_type": "markdown",
   "metadata": {},
   "source": [
    "Podemos ver que ambos os chutes começam na esquerda do goleiro, pois tem valor mínimo negativo. Além disso, para a primeira base de dados a altura máxima atingida até o momento com distância <i>y</i> de 1.1 do gol é de metade da altura máxima (1.5). Na segunda base de dados, a altura atingida é de quase máxima (2.9) até a distância de 1.1 do gol."
   ]
  },
  {
   "cell_type": "markdown",
   "metadata": {},
   "source": [
    "### Metodologia\n",
    "\n",
    "Os experimentos foram executados com 1000 iterações. A configuração dos experimentos varia de acordo com o dataset utilizado, o valor de <i>alpha</i>, e o grau da função de otimização. Sendo assim, os valores utilizados em ordem compreendem:\n",
    "\n",
    "- Dataset\n",
    "    - kick1.dat\n",
    "    - kick2.dat\n",
    "    \n",
    "- Alpha ($\\alpha$)\n",
    "    - 0.01\n",
    "    - 0.05\n",
    "    - 0.001\n",
    "    \n",
    "- Grau da função\n",
    "    - Linear\n",
    "    - Polinomial\n",
    "    \n",
    "- Cálculo do erro:\n",
    "    - Mean Squared Error (MSE)\n",
    "    \n",
    "São executadas todas as possíveis combinações as quais geram um grande número de resultados distintos, portanto, serão apenas descritos resultados selecionados de forma para apresentar o funcionamento do que foi implementado.\n",
    "\n",
    "A função linear se refere a: $$y = \\theta_0 \\cdot x_0 + \\theta_1 \\cdot x_1 + \\theta_2$$\n",
    "\n",
    "Já a função polinomial se refere a: $$y = \\theta_0 \\cdot x^2_0 + \\theta_1 \\cdot x^2_1 + \\theta_2$$ \n",
    "\n",
    "É necessário mencionar que o algoritmo foi implementado de forma a aceitar uma lista de valores $x$, os quais geram $\\theta$s aleatórios, e buscam esses $x$s na base de dados de entrada. \n",
    "\n",
    "Considerando as variáveis $x$, $y$ e $z$ como descritas no enunciado do trabalho, para o cálculo do valor de $x$ foi utilizada, em ambas as funções, apenas o $y$. O mesmo vale para o $z$. Sendo assim, apenas é considerado o $y$ para calcular $x$ e $z$ separadamente."
   ]
  },
  {
   "cell_type": "markdown",
   "metadata": {},
   "source": [
    "### Código Fonte\n",
    "\n",
    "O código fonte dos experimentos e da implementação do gradiente descendente estão disponíveis na pasta <b>src</b>. Como o código dos experimentos e o que gera os gráficos tem mais de 300 linhas não será colocado aqui no relatório, sendo ele, apenas executado por uma célula. Além disso, são geradas mais de 16 imagens, não sendo interessante apresentá-las todas em uma mesma célula."
   ]
  },
  {
   "cell_type": "code",
   "execution_count": 1,
   "metadata": {},
   "outputs": [
    {
     "name": "stderr",
     "output_type": "stream",
     "text": [
      "100%|█████████████████████████████████████████████████████████████████████████████| 1000/1000 [00:02<00:00, 417.43it/s]\n",
      "100%|█████████████████████████████████████████████████████████████████████████████| 1000/1000 [00:02<00:00, 417.25it/s]\n",
      "100%|█████████████████████████████████████████████████████████████████████████████| 1000/1000 [00:02<00:00, 410.58it/s]\n",
      "100%|█████████████████████████████████████████████████████████████████████████████| 1000/1000 [00:02<00:00, 411.66it/s]\n",
      "100%|█████████████████████████████████████████████████████████████████████████████| 1000/1000 [00:02<00:00, 430.21it/s]\n",
      "100%|█████████████████████████████████████████████████████████████████████████████| 1000/1000 [00:02<00:00, 421.58it/s]\n",
      "100%|█████████████████████████████████████████████████████████████████████████████| 1000/1000 [00:02<00:00, 404.34it/s]\n",
      "100%|█████████████████████████████████████████████████████████████████████████████| 1000/1000 [00:02<00:00, 405.90it/s]\n",
      "100%|█████████████████████████████████████████████████████████████████████████████| 1000/1000 [00:02<00:00, 420.22it/s]\n",
      "100%|█████████████████████████████████████████████████████████████████████████████| 1000/1000 [00:02<00:00, 423.35it/s]\n",
      "100%|█████████████████████████████████████████████████████████████████████████████| 1000/1000 [00:02<00:00, 412.96it/s]\n",
      "100%|█████████████████████████████████████████████████████████████████████████████| 1000/1000 [00:02<00:00, 399.73it/s]\n",
      "100%|█████████████████████████████████████████████████████████████████████████████| 1000/1000 [00:02<00:00, 416.04it/s]\n",
      "100%|█████████████████████████████████████████████████████████████████████████████| 1000/1000 [00:02<00:00, 418.67it/s]\n",
      "100%|█████████████████████████████████████████████████████████████████████████████| 1000/1000 [00:02<00:00, 405.85it/s]\n",
      "100%|█████████████████████████████████████████████████████████████████████████████| 1000/1000 [00:02<00:00, 411.18it/s]\n",
      "100%|█████████████████████████████████████████████████████████████████████████████| 1000/1000 [00:02<00:00, 419.88it/s]\n",
      "100%|█████████████████████████████████████████████████████████████████████████████| 1000/1000 [00:02<00:00, 415.68it/s]\n",
      "100%|█████████████████████████████████████████████████████████████████████████████| 1000/1000 [00:02<00:00, 395.26it/s]\n",
      "100%|█████████████████████████████████████████████████████████████████████████████| 1000/1000 [00:02<00:00, 392.34it/s]\n",
      "100%|█████████████████████████████████████████████████████████████████████████████| 1000/1000 [00:02<00:00, 421.79it/s]\n",
      "100%|█████████████████████████████████████████████████████████████████████████████| 1000/1000 [00:02<00:00, 422.97it/s]\n",
      "100%|█████████████████████████████████████████████████████████████████████████████| 1000/1000 [00:02<00:00, 412.03it/s]\n",
      "100%|█████████████████████████████████████████████████████████████████████████████| 1000/1000 [00:02<00:00, 410.06it/s]\n"
     ]
    },
    {
     "name": "stdout",
     "output_type": "stream",
     "text": [
      "      Dataset                Type  X  Y  Alpha  \\\n",
      "0   kick1.dat      LinearGradient  y  z  0.010   \n",
      "1   kick1.dat      LinearGradient  y  x  0.010   \n",
      "2   kick1.dat  PolinomialGradient  y  z  0.010   \n",
      "3   kick1.dat  PolinomialGradient  y  x  0.010   \n",
      "4   kick1.dat      LinearGradient  y  z  0.050   \n",
      "5   kick1.dat      LinearGradient  y  x  0.050   \n",
      "6   kick1.dat  PolinomialGradient  y  z  0.050   \n",
      "7   kick1.dat  PolinomialGradient  y  x  0.050   \n",
      "8   kick1.dat      LinearGradient  y  z  0.001   \n",
      "9   kick1.dat      LinearGradient  y  x  0.001   \n",
      "10  kick1.dat  PolinomialGradient  y  z  0.001   \n",
      "11  kick1.dat  PolinomialGradient  y  x  0.001   \n",
      "12  kick2.dat      LinearGradient  y  z  0.010   \n",
      "13  kick2.dat      LinearGradient  y  x  0.010   \n",
      "14  kick2.dat  PolinomialGradient  y  z  0.010   \n",
      "15  kick2.dat  PolinomialGradient  y  x  0.010   \n",
      "16  kick2.dat      LinearGradient  y  z  0.050   \n",
      "17  kick2.dat      LinearGradient  y  x  0.050   \n",
      "18  kick2.dat  PolinomialGradient  y  z  0.050   \n",
      "19  kick2.dat  PolinomialGradient  y  x  0.050   \n",
      "20  kick2.dat      LinearGradient  y  z  0.001   \n",
      "21  kick2.dat      LinearGradient  y  x  0.001   \n",
      "22  kick2.dat  PolinomialGradient  y  z  0.001   \n",
      "23  kick2.dat  PolinomialGradient  y  x  0.001   \n",
      "\n",
      "                                      Thetas A  \\\n",
      "0     [0.3745401188473625, 0.9507143064099162]   \n",
      "1     [0.3745401188473625, 0.9507143064099162]   \n",
      "2     [0.7319939418114051, 0.5986584841970366]   \n",
      "3   [0.15601864044243652, 0.15599452033620265]   \n",
      "4     [0.3745401188473625, 0.9507143064099162]   \n",
      "5     [0.3745401188473625, 0.9507143064099162]   \n",
      "6     [0.7319939418114051, 0.5986584841970366]   \n",
      "7   [0.15601864044243652, 0.15599452033620265]   \n",
      "8     [0.3745401188473625, 0.9507143064099162]   \n",
      "9     [0.3745401188473625, 0.9507143064099162]   \n",
      "10    [0.7319939418114051, 0.5986584841970366]   \n",
      "11  [0.15601864044243652, 0.15599452033620265]   \n",
      "12    [0.3745401188473625, 0.9507143064099162]   \n",
      "13    [0.3745401188473625, 0.9507143064099162]   \n",
      "14    [0.7319939418114051, 0.5986584841970366]   \n",
      "15  [0.15601864044243652, 0.15599452033620265]   \n",
      "16    [0.3745401188473625, 0.9507143064099162]   \n",
      "17    [0.3745401188473625, 0.9507143064099162]   \n",
      "18    [0.7319939418114051, 0.5986584841970366]   \n",
      "19  [0.15601864044243652, 0.15599452033620265]   \n",
      "20    [0.3745401188473625, 0.9507143064099162]   \n",
      "21    [0.3745401188473625, 0.9507143064099162]   \n",
      "22    [0.7319939418114051, 0.5986584841970366]   \n",
      "23  [0.15601864044243652, 0.15599452033620265]   \n",
      "\n",
      "                                         Thetas B  Predicted  \n",
      "0        [0.3745572080345895, 0.7246462281419893]   0.724646  \n",
      "1      [0.4570691151736957, 0.047590296120273205]   0.047590  \n",
      "2    [-0.023381755361301056, 0.18726866780009255]   0.187269  \n",
      "3      [0.11258495237149291, -0.9597866823607902]  -0.959787  \n",
      "4       [0.14102999090397814, 0.3476451457710355]   0.347645  \n",
      "5       [-0.423086773955073, -1.3733135579736557]  -1.373314  \n",
      "6     [0.0028847104479863992, 0.1123296530786551]   0.112330  \n",
      "7      [0.30973634517589865, -1.5222655188739715]  -1.522266  \n",
      "8        [0.4616369229162516, 0.8717098428574518]   0.871710  \n",
      "9        [0.7829045455626169, 0.6033328372398078]   0.603333  \n",
      "10    [-0.06208496209969611, 0.29828871852225947]   0.298289  \n",
      "11   [-0.17922673408179618, -0.12695002683053658]  -0.126950  \n",
      "12       [0.3677208600336506, 0.8258477006242072]   0.825848  \n",
      "13      [0.4389030209287779, 0.36388180853917357]   0.363882  \n",
      "14      [-0.04371034048807273, 0.348928040837175]   0.348928  \n",
      "15    [0.049533388681628474, -0.4603880195350847]  -0.460388  \n",
      "16        [0.234364570299221, 0.6105603084795236]   0.610560  \n",
      "17     [-0.1261345070044385, -0.5483020569153159]  -0.548302  \n",
      "18     [-0.04767957421303201, 0.3602523836972783]   0.360252  \n",
      "19     [0.15326470993721203, -0.7563365901226711]  -0.756337  \n",
      "20        [0.4176437905984096, 0.909707424672191]   0.909707  \n",
      "21       [0.6477546166683572, 0.7208564638266337]   0.720856  \n",
      "22    [-0.037654179849598866, 0.3322240948287971]   0.332224  \n",
      "23  [-0.10398399427048446, -0.022183686035203688]  -0.022184  \n"
     ]
    },
    {
     "data": {
      "text/plain": [
       "<Figure size 432x288 with 0 Axes>"
      ]
     },
     "metadata": {},
     "output_type": "display_data"
    },
    {
     "data": {
      "text/plain": [
       "<Figure size 576x576 with 0 Axes>"
      ]
     },
     "metadata": {},
     "output_type": "display_data"
    },
    {
     "data": {
      "text/plain": [
       "<Figure size 576x576 with 0 Axes>"
      ]
     },
     "metadata": {},
     "output_type": "display_data"
    },
    {
     "data": {
      "text/plain": [
       "<Figure size 576x576 with 0 Axes>"
      ]
     },
     "metadata": {},
     "output_type": "display_data"
    },
    {
     "data": {
      "text/plain": [
       "<Figure size 576x576 with 0 Axes>"
      ]
     },
     "metadata": {},
     "output_type": "display_data"
    },
    {
     "data": {
      "text/plain": [
       "<Figure size 576x576 with 0 Axes>"
      ]
     },
     "metadata": {},
     "output_type": "display_data"
    },
    {
     "data": {
      "text/plain": [
       "<Figure size 576x576 with 0 Axes>"
      ]
     },
     "metadata": {},
     "output_type": "display_data"
    },
    {
     "data": {
      "text/plain": [
       "<Figure size 576x576 with 0 Axes>"
      ]
     },
     "metadata": {},
     "output_type": "display_data"
    },
    {
     "data": {
      "text/plain": [
       "<Figure size 576x576 with 0 Axes>"
      ]
     },
     "metadata": {},
     "output_type": "display_data"
    },
    {
     "data": {
      "text/plain": [
       "<Figure size 576x576 with 0 Axes>"
      ]
     },
     "metadata": {},
     "output_type": "display_data"
    },
    {
     "data": {
      "text/plain": [
       "<Figure size 576x576 with 0 Axes>"
      ]
     },
     "metadata": {},
     "output_type": "display_data"
    },
    {
     "data": {
      "text/plain": [
       "<Figure size 576x576 with 0 Axes>"
      ]
     },
     "metadata": {},
     "output_type": "display_data"
    },
    {
     "data": {
      "text/plain": [
       "<Figure size 576x576 with 0 Axes>"
      ]
     },
     "metadata": {},
     "output_type": "display_data"
    },
    {
     "data": {
      "text/plain": [
       "<Figure size 432x288 with 0 Axes>"
      ]
     },
     "metadata": {},
     "output_type": "display_data"
    },
    {
     "data": {
      "text/plain": [
       "<Figure size 432x288 with 0 Axes>"
      ]
     },
     "metadata": {},
     "output_type": "display_data"
    },
    {
     "data": {
      "text/plain": [
       "<Figure size 432x288 with 0 Axes>"
      ]
     },
     "metadata": {},
     "output_type": "display_data"
    },
    {
     "data": {
      "image/png": "[encoded data removed]",
      "text/plain": [
       "<Figure size 432x288 with 3 Axes>"
      ]
     },
     "metadata": {
      "needs_background": "light"
     },
     "output_type": "display_data"
    }
   ],
   "source": [
    "from src import exp1\n",
    "\n",
    "exp1.main()"
   ]
  },
  {
   "cell_type": "markdown",
   "metadata": {},
   "source": [
    "<b>Gradiente Descendente</b>\n",
    "\n",
    "Ambas as implementações (Linear e Polinomial) tem o mesmo conjunto de métodos, sendo eles:\n",
    "\n",
    "- function<br>\n",
    "Faz o cálculo da função desejada.\n",
    "<br>\n",
    "- mse<br>\n",
    "Faz o cálculo do MSE considerando a multiplicação pela variável ao lado de $\\theta$ caso exista.\n",
    "<br>\n",
    "\n",
    "- update_theta<br>\n",
    "Faz a chamada para o cálculo do MSE e atualiza o $\\theta$ de acordo com o $\\alpha$.\n",
    "<br>\n",
    "\n",
    "- fit<br>\n",
    "Chama a atualização dos $\\theta$s uma quantidade fixa de vezes.\n",
    "<br>\n",
    "\n",
    "- get_thetas<br>\n",
    "Retorna os valores de $\\theta$s ao chamar.\n",
    "<br>\n",
    "\n",
    "- predict<br>\n",
    "Calcula o resultado da função.\n",
    "<br>\n",
    "\n",
    "- get_mse<br>\n",
    "Retorna todos os valores obtidos durante o cálculo do MSE para cada $\\theta$."
   ]
  },
  {
   "cell_type": "markdown",
   "metadata": {},
   "source": [
    "#### LinearGradient"
   ]
  },
  {
   "cell_type": "code",
   "execution_count": null,
   "metadata": {
    "pycharm": {
     "name": "#%%\n"
    }
   },
   "outputs": [],
   "source": [
    "class LinearGradient:\n",
    "    \"\"\"\n",
    "        Linear Gradient Descent\n",
    "        y = theta_0*1 + theta_1*x_1 + theta_2*x_2\n",
    "    \"\"\"\n",
    "\n",
    "\n",
    "    def __init__(self, data: pd.DataFrame, x: list, y: str, alpha=0.01):\n",
    "        \n",
    "        self.data = data\n",
    "        self.x = x\n",
    "        self.y = y\n",
    "        self.alpha = alpha\n",
    "        np.random.seed(42)\n",
    "        self.thetas = np.random.rand(len(x)+1)\n",
    "\n",
    "        # Add theta_0 column\n",
    "        self.data['joker'] = [1] * self.data.shape[0]\n",
    "        self.x.append('joker')\n",
    "\n",
    "        self.calculated_mse = []\n",
    "\n",
    "\n",
    "    def function(self, row):\n",
    "        \n",
    "        ys = [row[c]*self.thetas[i] for i, c in enumerate(self.x)]\n",
    "        ys = np.sum(ys)\n",
    "        return (ys - row[self.y])\n",
    "\n",
    "\n",
    "    def mse(self, i):\n",
    "        \n",
    "        summ = 0\n",
    "\n",
    "        for indx, row in self.data.iterrows():\n",
    "            summ += self.function(row) * row[self.x[i]]\n",
    "\n",
    "        result = summ / self.data.shape[0]\n",
    "\n",
    "        self.calculated_mse.append(result)\n",
    "\n",
    "        return result\n",
    "\n",
    "\n",
    "    def update_theta(self):\n",
    "        \n",
    "        tmp_thetas = []\n",
    "\n",
    "        for i, theta in enumerate(self.thetas):\n",
    "\n",
    "            tmp_theta = theta - self.alpha * self.mse(i)\n",
    "            tmp_thetas.append(tmp_theta)\n",
    "\n",
    "        self.thetas = tmp_thetas\n",
    "\n",
    "\n",
    "    def fit(self, data):\n",
    "\n",
    "        for steps in tqdm(range(1000)):\n",
    "            self.update_theta()\n",
    "\n",
    "\n",
    "    def get_thetas(self):\n",
    "        return self.thetas\n",
    "\n",
    "    \n",
    "    def predict(self, values: list):\n",
    "\n",
    "        values.append(1)\n",
    "\n",
    "        res = 0\n",
    "        for i, theta in enumerate(self.thetas):\n",
    "            res += theta * values[i]\n",
    "\n",
    "        return res\n",
    "    \n",
    "    \n",
    "    def get_mse(self):\n",
    "        return self.calculated_mse"
   ]
  },
  {
   "cell_type": "markdown",
   "metadata": {},
   "source": [
    "#### PolynomialGradient"
   ]
  },
  {
   "cell_type": "code",
   "execution_count": null,
   "metadata": {
    "pycharm": {
     "name": "#%%\n"
    }
   },
   "outputs": [],
   "source": [
    "class PolynomialGradient:\n",
    "    \"\"\"\n",
    "        Polinomial Gradient Descent\n",
    "        y = theta_0*1 + theta_1*(x_1**2) + theta_2*(x_1)\n",
    "    \"\"\"\n",
    "\n",
    "\n",
    "    def __init__(self, data: pd.DataFrame, x: list, y: str, alpha=0.01):\n",
    "        \n",
    "        self.data = data\n",
    "        self.x = x\n",
    "        self.y = y\n",
    "        self.alpha = alpha\n",
    "        self.thetas = np.random.rand(len(x)+1)\n",
    "\n",
    "        # Add theta_0 column\n",
    "        self.data['joker'] = [1] * self.data.shape[0]\n",
    "        self.x.append('joker')\n",
    "\n",
    "        self.calculated_mse = []\n",
    "\n",
    "\n",
    "    def function(self, row):\n",
    "        \n",
    "        ys = [self.thetas[i]*(row[c]**2) for i, c in enumerate(self.x)]\n",
    "        ys = np.sum(ys)\n",
    "        return (ys - row[self.y])\n",
    "\n",
    "\n",
    "    def mse(self, i):\n",
    "        \n",
    "        summ = 0\n",
    "\n",
    "        for indx, row in self.data.iterrows():\n",
    "            summ += self.function(row) * row[self.x[i]]**2\n",
    "\n",
    "        result = summ / self.data.shape[0]\n",
    "\n",
    "        self.calculated_mse.append(result)\n",
    "\n",
    "        return result\n",
    "\n",
    "\n",
    "    def update_theta(self):\n",
    "        \n",
    "        tmp_thetas = []\n",
    "\n",
    "        for i, theta in enumerate(self.thetas):\n",
    "\n",
    "            tmp_theta = theta - self.alpha * self.mse(i)\n",
    "            tmp_thetas.append(tmp_theta)\n",
    "\n",
    "        self.thetas = tmp_thetas\n",
    "\n",
    "\n",
    "    def fit(self, data):\n",
    "\n",
    "        for steps in tqdm(range(1000)):\n",
    "            self.update_theta()\n",
    "\n",
    "\n",
    "    def get_thetas(self):\n",
    "        return self.thetas\n",
    "\n",
    "\n",
    "    def predict(self, values: list):\n",
    "\n",
    "        values.append(1)\n",
    "\n",
    "        res = 0\n",
    "        for i, theta in enumerate(self.thetas):\n",
    "            res += theta * (values[i]**2)\n",
    "\n",
    "        return res\n",
    "\n",
    "    \n",
    "    def get_mse(self):\n",
    "        return self.calculated_mse"
   ]
  },
  {
   "cell_type": "markdown",
   "metadata": {},
   "source": [
    "### Resultados\n",
    "\n",
    "Os resultados compreendem comparações entre as funções obtidas e os dados de entrada. Como também, comparações entre os diferentes parâmetros iniciais e o MSE obtido.\n",
    "\n",
    "<b>Modelos Obtidos</b>\n",
    "\n",
    "Nas figuras a seguir é possível observar as seguintes características: os dados de cada base de dados, representados por círculos; a reta ou parábola gerada pelas funções linear e polinomial respectivamente; um desenho do campo igual ao encontrado no enunciado do trabalho; a trave; e por fim, um retângulo azul claro que representa a área que o goleiro consegue defender. Para a última foi considerado um alcance em $x$ de 1 metro para cada lado. <b>As funções apresentadas nesta seção utilizam as variáveis do enunciado para facilitar o entendimento</b>.\n",
    "\n",
    "Primeiramente serão apresentados os resultados da base de dados kick1, com função linear, para todos os valores de $\\alpha$. Os valores resultantes aproximados para cada $\\theta$ compreendem:\n",
    "\n",
    "- $\\alpha = 0.01$\n",
    "    - $ z = y \\cdot 0.374 + 0.724$\n",
    "    - $ x = y \\cdot 0.457 + 0.047$\n",
    "\n",
    "- $\\alpha = 0.05$\n",
    "    - $ z = y \\cdot 0.141 + 0.347$\n",
    "    - $ x = y \\cdot -0.423 - 1.373$\n",
    "    \n",
    "- $\\alpha = 0.001$\n",
    "    - $ z = y \\cdot 0.461 + 0.871$\n",
    "    - $ x = y \\cdot 0.782 + 0.603$\n",
    "    \n",
    "Podemos observar que para os valores de $\\alpha$ iguais a 0.01 e 0.001, a trajetória da bola passa por cima do trave e do goleiro. Já para $\\alpha$ igual a 0.05 quase foi gol, sendo fora do alcance do goleiro mas ainda acima da altura da trave. Além disso, a reta descreve o comportamento dos dados para os eixos $x$ e $y$. Vemos uma diferença mais clara nos valores preditos de $z$ pela variação da altitude observada nos dados de entrada.\n",
    "\n",
    "<table><tr><td><img src='plots/kick1.dat_LinearGradient_0.01.png'></td><td><img src='plots/kick1.dat_LinearGradient_0.05.png'></td><td><img src='plots/kick1.dat_LinearGradient_0.001.png'></td></tr></table>\n",
    "\n",
    "Agora serão apresentados os resultados da base de dados kick1, com função polinomial, para todos os valores de $\\alpha$. Os valores resultantes aproximados para cada $\\theta$ compreendem:\n",
    "\n",
    "- $\\alpha = 0.01$\n",
    "    - $ z = y \\cdot -0.023 + 0.187$\n",
    "    - $ x = y \\cdot 0.112 - 0.959$\n",
    "\n",
    "- $\\alpha = 0.05$\n",
    "    - $ z = y \\cdot 0.002 + 0.112$\n",
    "    - $ x = y \\cdot 0.309 - 1.522$\n",
    "    \n",
    "- $\\alpha = 0.001$\n",
    "    - $ z = y \\cdot -0.062 + 0.298$\n",
    "    - $ x = y \\cdot -0.179 - 0.126$\n",
    "    \n",
    "Podemos observar que para os valores de $\\alpha$ iguais a 0.01 e 0.001 o goleiro conseguiu defender, sendo que, a bola iria entrar no gol. Já para $\\alpha$ igual a 0.05 foi gol, passando fora do alcance do goleiro. No entanto, ao observar a distribuição dos dados e os valores preditos pela função vemos que o comportamento é um pouco diferente do esperado nos eixos $x$ e $z$. Portanto, para $\\alpha$ igual a 0.05 o comportamento é bem mais próximo do esperado.\n",
    "\n",
    "<table><tr><td><img src='plots/kick1.dat_PolinomialGradient_0.01.png'></td><td><img src='plots/kick1.dat_PolinomialGradient_0.05.png'></td><td><img src='plots/kick1.dat_PolinomialGradient_0.001.png'></td></tr></table>\n",
    "\n",
    "Serão apresentados os resultados da base de dados kick2, com função linear, para todos os valores de $\\alpha$. Os valores resultantes aproximados para cada $\\theta$ compreendem:\n",
    "\n",
    "- $\\alpha = 0.01$\n",
    "    - $ z = y \\cdot 0.367 + 0.825$\n",
    "    - $ x = y \\cdot 0.438 + 0.363$\n",
    "\n",
    "- $\\alpha = 0.05$\n",
    "    - $ z = y \\cdot0.234 + 0.61$\n",
    "    - $ x = y \\cdot -0.126 - 0.548$\n",
    "    \n",
    "- $\\alpha = 0.001$\n",
    "    - $ z = y \\cdot 0.417 + 0.909$\n",
    "    - $ x = y \\cdot 0.647 + 0.72$\n",
    "    \n",
    "Podemos observar que para todos os valores de $\\alpha$ a trajetória da bola passa por cima do trave e do goleiro. Para o valor de $\\alpha$ igual a 0.05, vemos que existe uma diferença comparado com os outros valores de $\\alpha$ no eixo $z$. Esse mesmo comportamento é observado para função linear na base de dados kick1.\n",
    "\n",
    "<table><tr><td><img src='plots/kick2.dat_LinearGradient_0.01.png'></td><td><img src='plots/kick2.dat_LinearGradient_0.05.png'></td><td><img src='plots/kick2.dat_LinearGradient_0.001.png'></td></tr></table>\n",
    "\n",
    "Serão apresentados os resultados da base de dados kick2, com função polinomial, para todos os valores de $\\alpha$. Os valores resultantes aproximados para cada $\\theta$ compreendem:\n",
    "\n",
    "- $\\alpha = 0.01$\n",
    "    - $ z = y \\cdot -0.043 + 0.348$\n",
    "    - $ x = y \\cdot 0.049 - 0.46$\n",
    "\n",
    "- $\\alpha = 0.05$\n",
    "    - $ z = y \\cdot -0.047 + 0.36$\n",
    "    - $ x = y \\cdot 0.153 - 0.756$\n",
    "    \n",
    "- $\\alpha = 0.001$\n",
    "    - $ z = y \\cdot -0.037 + 0.332$\n",
    "    - $ x = y \\cdot -0.103 - 0.022$\n",
    "    \n",
    "Podemos observar que para todos os valores de $\\alpha$ o goleiro conseguiu defender a bola, mesmo que, a trajetória predita iria para fora do gol. Comparando o comportamento dos dados e os valores preditos pela função vemos uma diferença grande para $\\alpha$ igual a 0.001, sendo que, é possível que 1000 iterações não tenha sido suficiente para obter um resultado melhor.\n",
    "\n",
    "<table><tr><td><img src='plots/kick2.dat_PolinomialGradient_0.01.png'></td><td><img src='plots/kick2.dat_PolinomialGradient_0.05.png'></td><td><img src='plots/kick2.dat_PolinomialGradient_0.001.png'></td></tr></table>\n",
    "\n",
    "<b>Variação dos valores de $\\alpha$</b>\n",
    "\n",
    "A figura a seguir apresenta os resultados obtidos pelo cálculo de MSE para a primeira base de dados com o método gradiente descendente para a variável $x$ do enunciado. Como os resultados são bem próximos para ambas as bases, como também, para a variável $z$ do enunciado, não serão descritos no relatório. No entanto, é possível verificar na pasta \"plots\" esses resultados. Como no eixo x estão apresentados todos os valores de $\\theta$, então com 2 $\\theta$s na equação e com 1000 iterações temos 2000 valores de MSE.\n",
    "\n",
    "<table><tr><td><img src='plots/mses_kick1.dat_LinearGradient.png'></td><td><img src='plots/mses_kick1.dat_PolinomialGradient.png'></td></tr></table>\n",
    "\n",
    "Na figura da função linear, podemos observar que para $\\alpha = 0.01$ o modelo demora várias iterações para chegar a um valor próximo de 0. Aproximadamente este valor de $\\alpha$ leva 800 iterações para chegar no valor mínimo de erro. Já para $\\alpha = 0.05$ foi possível chegar ao valor mínimo com cerca de 250 iterações. Por fim, com $\\alpha = 0.001$ foi possível chegar ao valor mínimo de erro com cerca de 100 iterações. O mesmo comportamento pode ser observado para a função polinomial, sendo que, ambas as funções utilizam o valor da variável, ao quadrado ou não, multiplicado por $\\theta_0$ e somado com um $\\theta_1$."
   ]
  },
  {
   "cell_type": "markdown",
   "metadata": {},
   "source": [
    "<b>Considerações Finais</b>\n",
    "\n",
    "Foi observado nos resultados o impacto do valor de $\\alpha$ para diminuir o erro, sendo que, encontramos valores de mínimo local para as funções polinomiais em ambas as bases de dados com $\\alpha$ igual a 0.001. Para usar o método do gradiente descendente é necessário escolher bem a função utilizada (tanto como o grau da função) e o valor de $\\alpha$. Como neste trabalho não foi necessário avaliar diferentes funções para identificar a melhor para estes conjuntos de dados, então, ficamos satisfeitos com os resultados mostrando que o algoritmo proposto foi implementado corretamente."
   ]
  },
  {
   "cell_type": "markdown",
   "metadata": {},
   "source": [
    "## Part II - Tarefa de classificação\n",
    "\n",
    "<b>Declaração do problema</b>\n",
    "<br>\"Você deve resolver um problema de classificação utilizando métodos de aprendizado supervisionado. Para esta tarefa,\n",
    " será utilizado um conjunto de dados composto por imagens de dígitos manuscritos, sendo o objetivo da tarefa classificar os\n",
    " dígitos com base nas suas respectivas imagens.\""
   ]
  },
  {
   "cell_type": "markdown",
   "metadata": {},
   "source": [
    "### Dependências"
   ]
  },
  {
   "cell_type": "code",
   "execution_count": null,
   "metadata": {
    "pycharm": {
     "name": "#%%\n"
    }
   },
   "outputs": [],
   "source": [
    "import sys\n",
    "!{sys.executable} -m pip install umap-learn"
   ]
  },
  {
   "cell_type": "markdown",
   "metadata": {},
   "source": [
    "### Imports"
   ]
  },
  {
   "cell_type": "code",
   "execution_count": 3,
   "metadata": {
    "pycharm": {
     "name": "#%%\n"
    }
   },
   "outputs": [],
   "source": [
    "import matplotlib.gridspec as gridspec\n",
    "import matplotlib.pyplot as plt\n",
    "import numpy as np\n",
    "import pandas as pd\n",
    "import seaborn as sns\n",
    "import umap\n",
    "from sklearn.datasets import load_digits\n",
    "from sklearn.ensemble import RandomForestClassifier\n",
    "from sklearn.metrics import confusion_matrix, classification_report\n",
    "from sklearn.model_selection import train_test_split, StratifiedKFold, GridSearchCV\n",
    "from sklearn.preprocessing import Normalizer\n",
    "from sklearn.svm import SVC"
   ]
  },
  {
   "cell_type": "markdown",
   "metadata": {},
   "source": [
    "### Definindo seed para geração de valores aleatórios"
   ]
  },
  {
   "cell_type": "code",
   "execution_count": 4,
   "metadata": {
    "pycharm": {
     "name": "#%%\n"
    }
   },
   "outputs": [],
   "source": [
    "seed = 1337"
   ]
  },
  {
   "cell_type": "markdown",
   "metadata": {},
   "source": [
    "#### Carregando os dados"
   ]
  },
  {
   "cell_type": "code",
   "execution_count": 5,
   "metadata": {
    "pycharm": {
     "name": "#%%\n"
    }
   },
   "outputs": [],
   "source": [
    "dataset = load_digits()"
   ]
  },
  {
   "cell_type": "markdown",
   "metadata": {},
   "source": [
    "### Descrição dos dados\n",
    "\n",
    "Para esta tarefa, foi utilizado o conjunto de dados MNIST, que contém milhares de imagens digitalizadas de dígitos manuscritos.\n",
    "<br>Há um total de 1797 imagens e cada imagem é representada por uma matriz quadrada de dimensão 8, totalizando 64 atributos, com valores na escala de cinza, variando de 0 a 16.\n",
    "<br>Por fim, para cada imagem, há um label associado, que indica qual número está a ser representado na imagem, havendo um total de 10 valores possíveis, que são os dígitos de 0 a 9."
   ]
  },
  {
   "cell_type": "code",
   "execution_count": 6,
   "metadata": {
    "pycharm": {
     "name": "#%%\n"
    }
   },
   "outputs": [
    {
     "name": "stdout",
     "output_type": "stream",
     "text": [
      "Formato das imagens: (1797, 8, 8)\n",
      "Possíveis labels: [0 1 2 3 4 5 6 7 8 9]\n",
      "Menor valor na representação das imagens: 0.0\n",
      "Maior valor na representação das imagens: 16.0\n"
     ]
    }
   ],
   "source": [
    "print('Formato das imagens: {}'.format(dataset.images.shape))\n",
    "print('Possíveis labels: {}'.format(dataset.target_names))\n",
    "print('Menor valor na representação das imagens: {}'.format(np.ravel(dataset.images).min()))\n",
    "print('Maior valor na representação das imagens: {}'.format(np.ravel(dataset.images).max()))"
   ]
  },
  {
   "cell_type": "markdown",
   "metadata": {},
   "source": [
    "### Distribuição dos valores"
   ]
  },
  {
   "cell_type": "code",
   "execution_count": 7,
   "metadata": {
    "pycharm": {
     "name": "#%%\n"
    }
   },
   "outputs": [
    {
     "data": {
      "image/png": "[encoded data removed]",
      "text/plain": [
       "<Figure size 432x288 with 1 Axes>"
      ]
     },
     "metadata": {
      "needs_background": "light"
     },
     "output_type": "display_data"
    }
   ],
   "source": [
    "sns.countplot(data=pd.DataFrame(dataset.target), x=0)\n",
    "plt.title('Quantidade de imagens por dígito')\n",
    "plt.xlabel('Dígito')\n",
    "plt.ylabel('Quantidade')\n",
    "plt.show()"
   ]
  },
  {
   "cell_type": "markdown",
   "metadata": {},
   "source": [
    "Pelo gráfico acima, nota-se que o conjunto de dados apresenta uma distribuição equilibrada em relação aos dígitos, havendo, em média, cerca de 180 imagens por dígito."
   ]
  },
  {
   "cell_type": "markdown",
   "metadata": {},
   "source": [
    "### Exemplos"
   ]
  },
  {
   "cell_type": "code",
   "execution_count": 8,
   "metadata": {
    "pycharm": {
     "name": "#%%\n"
    }
   },
   "outputs": [
    {
     "data": {
      "image/png": "[encoded data removed]",
      "text/plain": [
       "<Figure size 576x576 with 10 Axes>"
      ]
     },
     "metadata": {
      "needs_background": "light"
     },
     "output_type": "display_data"
    }
   ],
   "source": [
    "fig = plt.figure(figsize = (8,8))\n",
    "fig.suptitle('Exemplos de digitos')\n",
    "gs1 = gridspec.GridSpec(4, 4)\n",
    "gs1.update(wspace=0.025, hspace=0.2)\n",
    "\n",
    "for i in range(10):\n",
    "    image = dataset.images[i]\n",
    "    label = dataset.target[i]\n",
    "    ax1 = plt.subplot(gs1[i])\n",
    "    ax1.imshow(image, cmap='gray')\n",
    "    ax1.set_title('Digito {}'.format(i))\n",
    "    ax1.set_aspect('equal')\n",
    "    ax1.grid(color='white')\n",
    "    plt.axis('off')\n",
    "\n",
    "plt.show()"
   ]
  },
  {
   "cell_type": "markdown",
   "metadata": {},
   "source": [
    "### Visualização dos dados"
   ]
  },
  {
   "cell_type": "code",
   "execution_count": 9,
   "metadata": {
    "pycharm": {
     "name": "#%%\n"
    }
   },
   "outputs": [
    {
     "data": {
      "image/png": "[encoded data removed]",
      "text/plain": [
       "<Figure size 1008x720 with 2 Axes>"
      ]
     },
     "metadata": {
      "needs_background": "light"
     },
     "output_type": "display_data"
    }
   ],
   "source": [
    "embedding = umap.UMAP(n_neighbors=5, random_state=seed).fit_transform(dataset.data)\n",
    "fig, ax = plt.subplots(1, figsize=(14, 10))\n",
    "plt.scatter(*embedding.T, s=0.1, c=dataset.target, cmap='hsv', alpha=1.0)\n",
    "plt.setp(ax, xticks=[], yticks=[])\n",
    "cbar = plt.colorbar(boundaries=np.arange(11)-0.5)\n",
    "cbar.set_ticks(np.arange(10))\n",
    "cbar.set_ticklabels(dataset.target_names)\n",
    "plt.title('Visualização MNIST via UMAP com Labels')\n",
    "plt.show()"
   ]
  },
  {
   "cell_type": "markdown",
   "metadata": {},
   "source": [
    "### Metodologia"
   ]
  },
  {
   "cell_type": "markdown",
   "metadata": {},
   "source": [
    "Foram executados experimentos com dois algoritmos de aprendizado supervisionado: SVM (Support Vector Machine) e Random Forest.<br>\n",
    "Os dados foram separados conjuntos de treino e teste, na proporção 9:1 e, para avaliar o efeito da normalização de dados, foram realizados dois experimentos para cada algoritmo, um com dados normalizados e outro sem.<br>\n",
    "Para realização da validação cruzada, utilizou-se o método k-fold com 3 divisões, através da função StratifiedKFold do Scikit-learn.<br>\n",
    "A otimização de hiperparâmetros foi realizada através da função GridSearchCV do Scikit-learn,\n",
    "que, dado um modelo, um método de validação cruzada e um dicionário de parâmetros, avalia todas as combinações de parâmetros possíveis para o modelo, retornando aquele com melhor performance dentre os avaliados.\n",
    "Para cada algoritmo, os seguintes parâmetros foram avaliados:\n",
    "- SVM\n",
    " - gamma: 0.1, 0.01, 0.001\n",
    " - C: 1, 5, 10\n",
    " - kernel: rbf, linear, sigmoid\n",
    "- Random Forest\n",
    " - n_estimators: 100, 500, 1000\n",
    " - max_features: auto, log2\n",
    " - max_depth: 20, 30, 40\n",
    " - min_samples_split: 2, 5, 10\n",
    " - min_samples_leaf: 2, 5, 10\n",
    "\n",
    "Por fim, o melhor modelo obtido para um dos algoritmos foi avaliado em relação ao conjunto de testes."
   ]
  },
  {
   "cell_type": "markdown",
   "metadata": {},
   "source": [
    "### Código Fonte"
   ]
  },
  {
   "cell_type": "markdown",
   "metadata": {},
   "source": [
    "De modo a facilitar a execução dos experimentos, foi criada uma classe Classifier que contém o código compartilhado entre os experimentos com ambos algoritmos.\n",
    "Os métodos dessa classe são:\n",
    "- fit: executa o treinamento do modelo, dado o conjunto de dados de treinamento.\n",
    "- training_score: apresenta informações sobre o melhor modelo encontrado.\n",
    "- test_score: apresenta um relatório contendo diversas métricas sobre o modelo.\n",
    "- confusion_matrix: apresenta a matriz de confusão do modelo, dado o conjunto de dados de teste.\n",
    "- show_errors: exibe até 16 imagens que foram classificada incorretamente pelo modelo."
   ]
  },
  {
   "cell_type": "code",
   "execution_count": 10,
   "metadata": {
    "pycharm": {
     "name": "#%%\n"
    }
   },
   "outputs": [],
   "source": [
    "class Classifier:\n",
    "  def __init__(self, model, hyper_params, seed):\n",
    "    self.base_model = model\n",
    "    self.best_model = None\n",
    "    self.hyper_params = hyper_params\n",
    "    self.seed = seed\n",
    "\n",
    "  def fit(self, x_train, y_train):\n",
    "    folds = StratifiedKFold(n_splits=3, shuffle=True, random_state=self.seed)\n",
    "\n",
    "    model_cv = GridSearchCV(estimator = self.base_model,\n",
    "                            param_grid = self.hyper_params,\n",
    "                            scoring= 'accuracy',\n",
    "                            cv=folds,\n",
    "                            verbose=1,\n",
    "                            return_train_score=True,\n",
    "                            n_jobs=-1)\n",
    "\n",
    "    model_cv.fit(x_train, y_train)\n",
    "\n",
    "    self.best_model = model_cv\n",
    "\n",
    "  def training_score(self):\n",
    "    print('Acurácia de treinamento: {}'.format(self.best_model.best_score_))\n",
    "    print('Melhores parâmetros encontrados: {}'.format(self.best_model.best_params_))\n",
    "\n",
    "  def test_score(self, x_test, y_test):\n",
    "    print('Acurácia de teste: {}'.format(self.best_model.score(x_test, y_test)))\n",
    "    y_pred = self.best_model.predict(x_test)\n",
    "    print(classification_report(y_test, y_pred))\n",
    "\n",
    "  def confusion_matrix(self, x_test, y_test):\n",
    "    y_pred = self.best_model.predict(x_test)\n",
    "    cmrforest = confusion_matrix(y_test , y_pred)\n",
    "    plt.figure(figsize=(10,7))\n",
    "    sns.heatmap(cmrforest, annot=True, cmap='viridis', fmt = 'd')\n",
    "    plt.title('Matriz de confusão')\n",
    "    plt.xlabel('Previsto')\n",
    "    plt.ylabel('Esperado')\n",
    "    plt.show()\n",
    "\n",
    "  def show_errors(self, x_test, y_test):\n",
    "    y_pred = self.best_model.predict(x_test)\n",
    "    errors = y_pred != y_test\n",
    "\n",
    "    predicted_labels = y_pred[errors]\n",
    "    real_labels = y_test[errors]\n",
    "    images_with_errors = x_test[errors]\n",
    "    errors_size = len(images_with_errors)\n",
    "\n",
    "    fig = plt.figure(figsize = (8, 8))\n",
    "    fig.suptitle('Imagens classificadas incorretamente')\n",
    "    gs1 = gridspec.GridSpec(4, 4)\n",
    "    gs1.update(wspace=0.1, hspace=0.2)\n",
    "\n",
    "    for image, real, predicted, index in zip(images_with_errors, real_labels, predicted_labels, range(errors_size)):\n",
    "      ax1 = plt.subplot(gs1[index])\n",
    "      ax1.imshow(image.reshape(8, 8), cmap='gray')\n",
    "      ax1.set_title('Esperado {0}\\n Previsto: {1}'.format(real, predicted))\n",
    "      ax1.set_aspect('equal')\n",
    "      ax1.grid(color='white')\n",
    "      plt.axis('off')\n",
    "\n",
    "    plt.show()"
   ]
  },
  {
   "cell_type": "markdown",
   "metadata": {},
   "source": [
    "### Experimentos"
   ]
  },
  {
   "cell_type": "markdown",
   "metadata": {},
   "source": [
    "#### Divisão dos dados"
   ]
  },
  {
   "cell_type": "code",
   "execution_count": 11,
   "metadata": {
    "pycharm": {
     "name": "#%%\n"
    }
   },
   "outputs": [],
   "source": [
    "# dados não normalizados\n",
    "x_train, x_test, y_train, y_test = train_test_split(dataset.data, dataset.target, test_size=0.1, random_state=seed)\n",
    "\n",
    "# dados normalizados\n",
    "normalizer = Normalizer()\n",
    "normalized_data = normalizer.fit_transform(dataset.data)\n",
    "x_train_norm, x_test_norm, y_train_norm, y_test_norm = train_test_split(normalized_data, dataset.target, test_size=0.1, random_state=seed)\n"
   ]
  },
  {
   "cell_type": "markdown",
   "metadata": {},
   "source": [
    "### Treinamento do primeiro modelo - SVM\n",
    "#### Hiperparâmetros"
   ]
  },
  {
   "cell_type": "code",
   "execution_count": 12,
   "metadata": {
    "pycharm": {
     "name": "#%%\n"
    }
   },
   "outputs": [],
   "source": [
    "hyper_params_svm = [ {'gamma': [0.1, 0.01, 0.001],\n",
    "                     'C': [1, 5, 10],\n",
    "                  'kernel': ['rbf', 'linear', 'sigmoid']}]"
   ]
  },
  {
   "cell_type": "markdown",
   "metadata": {},
   "source": [
    "#### Treinamento com dados não normalizados"
   ]
  },
  {
   "cell_type": "code",
   "execution_count": 13,
   "metadata": {
    "pycharm": {
     "name": "#%%\n"
    }
   },
   "outputs": [
    {
     "name": "stdout",
     "output_type": "stream",
     "text": [
      "Fitting 3 folds for each of 27 candidates, totalling 81 fits\n",
      "Acurácia de treinamento: 0.9888682745825603\n",
      "Melhores parâmetros encontrados: {'C': 5, 'gamma': 0.001, 'kernel': 'rbf'}\n"
     ]
    }
   ],
   "source": [
    "svm = Classifier(model=SVC(), hyper_params=hyper_params_svm, seed=seed)\n",
    "svm.fit(x_train, y_train)\n",
    "svm.training_score()"
   ]
  },
  {
   "cell_type": "markdown",
   "metadata": {},
   "source": [
    "#### Treinamento com dados normalizados"
   ]
  },
  {
   "cell_type": "code",
   "execution_count": 14,
   "metadata": {
    "pycharm": {
     "name": "#%%\n"
    }
   },
   "outputs": [
    {
     "name": "stdout",
     "output_type": "stream",
     "text": [
      "Fitting 3 folds for each of 27 candidates, totalling 81 fits\n",
      "Acurácia de treinamento: 0.9789734075448361\n",
      "Melhores parâmetros encontrados: {'C': 10, 'gamma': 0.1, 'kernel': 'linear'}\n"
     ]
    }
   ],
   "source": [
    "svm_norm = Classifier(model=SVC(), hyper_params=hyper_params_svm, seed=seed)\n",
    "svm_norm.fit(x_train_norm, y_train_norm)\n",
    "svm_norm.training_score()"
   ]
  },
  {
   "cell_type": "markdown",
   "metadata": {},
   "source": [
    "### Treinamento do segundo modelo - Random Forest\n",
    "#### Hiperparâmetros"
   ]
  },
  {
   "cell_type": "code",
   "execution_count": 15,
   "metadata": {
    "pycharm": {
     "name": "#%%\n"
    }
   },
   "outputs": [],
   "source": [
    "hyper_params_rf = {'n_estimators': [100, 500, 1000],\n",
    "              'max_features': ['auto', 'log2'],\n",
    "              'max_depth': [20, 30, 40],\n",
    "              'min_samples_split': [2, 5, 10],\n",
    "              'min_samples_leaf': [2, 5, 10]}"
   ]
  },
  {
   "cell_type": "markdown",
   "metadata": {},
   "source": [
    "#### Treinamento com dados não normalizados"
   ]
  },
  {
   "cell_type": "code",
   "execution_count": 16,
   "metadata": {
    "pycharm": {
     "name": "#%%\n"
    }
   },
   "outputs": [
    {
     "name": "stdout",
     "output_type": "stream",
     "text": [
      "Fitting 3 folds for each of 162 candidates, totalling 486 fits\n",
      "Acurácia de treinamento: 0.9672232529375387\n",
      "Melhores parâmetros encontrados: {'max_depth': 20, 'max_features': 'log2', 'min_samples_leaf': 2, 'min_samples_split': 2, 'n_estimators': 1000}\n"
     ]
    }
   ],
   "source": [
    "rf = Classifier(model=RandomForestClassifier(random_state=seed), hyper_params=hyper_params_rf, seed=seed)\n",
    "rf.fit(x_train, y_train)\n",
    "rf.training_score()"
   ]
  },
  {
   "cell_type": "markdown",
   "metadata": {},
   "source": [
    "#### Treinamento com dados normalizados"
   ]
  },
  {
   "cell_type": "code",
   "execution_count": 17,
   "metadata": {
    "pycharm": {
     "name": "#%%\n"
    }
   },
   "outputs": [
    {
     "name": "stdout",
     "output_type": "stream",
     "text": [
      "Fitting 3 folds for each of 162 candidates, totalling 486 fits\n",
      "Acurácia de treinamento: 0.9659863945578232\n",
      "Melhores parâmetros encontrados: {'max_depth': 20, 'max_features': 'log2', 'min_samples_leaf': 2, 'min_samples_split': 5, 'n_estimators': 500}\n"
     ]
    }
   ],
   "source": [
    "rf_norm = Classifier(model=RandomForestClassifier(random_state=seed), hyper_params=hyper_params_rf, seed=seed)\n",
    "rf_norm.fit(x_train_norm, y_train_norm)\n",
    "rf_norm.training_score()"
   ]
  },
  {
   "cell_type": "markdown",
   "metadata": {},
   "source": [
    "### Resultados\n",
    "Inicialmente, nota-se que, tanto para a SVM quanto para a Random Forest, houve uma maior acurácia nos modelos que foram\n",
    "treinados com dados não normalizados, de modo que esses modelos serão utilizados para a avaliação em relação ao conjunto\n",
    "de testes.<br>\n",
    "A seguir, serão exibidas as métricas, matriz de confusão e classificações incorretas em relação ao conjunto de testes para cada modelo.\n",
    "#### SVM - métricas"
   ]
  },
  {
   "cell_type": "code",
   "execution_count": 18,
   "metadata": {
    "pycharm": {
     "name": "#%%\n"
    }
   },
   "outputs": [
    {
     "name": "stdout",
     "output_type": "stream",
     "text": [
      "Acurácia de teste: 0.9777777777777777\n",
      "              precision    recall  f1-score   support\n",
      "\n",
      "           0       1.00      1.00      1.00        19\n",
      "           1       1.00      1.00      1.00        19\n",
      "           2       1.00      1.00      1.00        23\n",
      "           3       1.00      0.96      0.98        23\n",
      "           4       1.00      1.00      1.00        20\n",
      "           5       0.92      1.00      0.96        12\n",
      "           6       1.00      1.00      1.00        16\n",
      "           7       0.86      1.00      0.92        12\n",
      "           8       0.95      1.00      0.98        20\n",
      "           9       1.00      0.81      0.90        16\n",
      "\n",
      "    accuracy                           0.98       180\n",
      "   macro avg       0.97      0.98      0.97       180\n",
      "weighted avg       0.98      0.98      0.98       180\n",
      "\n"
     ]
    }
   ],
   "source": [
    "svm.test_score(x_test, y_test)"
   ]
  },
  {
   "cell_type": "markdown",
   "metadata": {},
   "source": [
    "#### SVM - Matriz de confusão"
   ]
  },
  {
   "cell_type": "code",
   "execution_count": 19,
   "metadata": {
    "pycharm": {
     "name": "#%%\n"
    }
   },
   "outputs": [
    {
     "data": {
      "image/png": "[encoded data removed]",
      "text/plain": [
       "<Figure size 720x504 with 2 Axes>"
      ]
     },
     "metadata": {
      "needs_background": "light"
     },
     "output_type": "display_data"
    }
   ],
   "source": [
    "svm.confusion_matrix(x_test, y_test)"
   ]
  },
  {
   "cell_type": "markdown",
   "metadata": {},
   "source": [
    "#### SVM - Classificações incorretas"
   ]
  },
  {
   "cell_type": "code",
   "execution_count": 20,
   "metadata": {
    "pycharm": {
     "name": "#%%\n"
    }
   },
   "outputs": [
    {
     "data": {
      "image/png": "[encoded data removed]",
      "text/plain": [
       "<Figure size 576x576 with 4 Axes>"
      ]
     },
     "metadata": {
      "needs_background": "light"
     },
     "output_type": "display_data"
    }
   ],
   "source": [
    "svm.show_errors(x_test, y_test)"
   ]
  },
  {
   "cell_type": "markdown",
   "metadata": {},
   "source": [
    "#### Random Forest - métricas"
   ]
  },
  {
   "cell_type": "code",
   "execution_count": 21,
   "metadata": {
    "pycharm": {
     "name": "#%%\n"
    }
   },
   "outputs": [
    {
     "name": "stdout",
     "output_type": "stream",
     "text": [
      "Acurácia de teste: 0.9777777777777777\n",
      "              precision    recall  f1-score   support\n",
      "\n",
      "           0       1.00      1.00      1.00        19\n",
      "           1       1.00      1.00      1.00        19\n",
      "           2       1.00      1.00      1.00        23\n",
      "           3       1.00      0.96      0.98        23\n",
      "           4       1.00      1.00      1.00        20\n",
      "           5       0.92      1.00      0.96        12\n",
      "           6       1.00      1.00      1.00        16\n",
      "           7       0.86      1.00      0.92        12\n",
      "           8       0.95      1.00      0.98        20\n",
      "           9       1.00      0.81      0.90        16\n",
      "\n",
      "    accuracy                           0.98       180\n",
      "   macro avg       0.97      0.98      0.97       180\n",
      "weighted avg       0.98      0.98      0.98       180\n",
      "\n"
     ]
    }
   ],
   "source": [
    "rf.test_score(x_test, y_test)"
   ]
  },
  {
   "cell_type": "markdown",
   "metadata": {},
   "source": [
    "#### Random Forest - Matriz de confusão"
   ]
  },
  {
   "cell_type": "code",
   "execution_count": 22,
   "metadata": {
    "pycharm": {
     "name": "#%%\n"
    }
   },
   "outputs": [
    {
     "data": {
      "image/png": "[encoded data removed]",
      "text/plain": [
       "<Figure size 720x504 with 2 Axes>"
      ]
     },
     "metadata": {
      "needs_background": "light"
     },
     "output_type": "display_data"
    }
   ],
   "source": [
    "rf.confusion_matrix(x_test, y_test)"
   ]
  },
  {
   "cell_type": "markdown",
   "metadata": {},
   "source": [
    "#### Random Forest - Classificações incorretas"
   ]
  },
  {
   "cell_type": "code",
   "execution_count": 23,
   "metadata": {
    "pycharm": {
     "name": "#%%\n"
    }
   },
   "outputs": [
    {
     "data": {
      "image/png": "[encoded data removed]",
      "text/plain": [
       "<Figure size 576x576 with 4 Axes>"
      ]
     },
     "metadata": {
      "needs_background": "light"
     },
     "output_type": "display_data"
    }
   ],
   "source": [
    "rf.show_errors(x_test, y_test)"
   ]
  },
  {
   "cell_type": "markdown",
   "metadata": {},
   "source": [
    "#### Considerações finais\n",
    "Nota-se que, em relação ao conjunto de treinamento, a normalização dos dados não apresentou o efeito esperado, de modo que\n",
    "os modelos treinados com dados não normalizados apresentaram resultados melhores em comparação com os modelos que foram treinados com dados normalizados.\n",
    "<br>Ademais, após análise dos resultados, percebe-se que, apesar dos modelos - SVM e Random Forest - terem apresentado diferença na acurácia\n",
    "em relação ao conjunto de treinamento, ambos modelos alcançaram a mesma performance quando submetidos ao conjunto de testes,\n",
    "obtendo cerca de 97.78% de acurácia e 98% de precisão, recall e f1 (considerado as médias ponderadas).\n",
    "Ambos modelos classificaram 4 imagens incorretamente de um total\n",
    "de 180 no conjunto de testes, dentre os erros, tem-se que o dígito 9 apresentou a maior taxa de erro, sendo classificado incorretamente\n",
    "3 vezes com uma taxa de recall 0.81, seguido pelo dígito 3, que foi classificado incorretamente 1 vez com uma taxa de recall 0.96."
   ]
  },
  {
   "cell_type": "markdown",
   "metadata": {},
   "source": [
    "## Contribuições\n",
    "<br>\n",
    "O membro do grupo <b>Lucas Zanco Ladeira</b> contribuiu com toda a implementação, validação e escrita da parte I deste trabalho.\n",
    "\n",
    "O membro do grupo <b>Rafael Scherer</b> contribuiu com toda a implementação, validação e escrita da parte II deste trabalho."
   ]
  }
 ],
 "metadata": {
  "kernelspec": {
   "display_name": "Python 3",
   "language": "python",
   "name": "python3"
  },
  "language_info": {
   "codemirror_mode": {
    "name": "ipython",
    "version": 3
   },
   "file_extension": ".py",
   "mimetype": "text/x-python",
   "name": "python",
   "nbconvert_exporter": "python",
   "pygments_lexer": "ipython3",
   "version": "3.8.7"
  }
 },
 "nbformat": 4,
 "nbformat_minor": 4
}
