{
 "cells": [
  {
   "cell_type": "markdown",
   "metadata": {},
   "source": [
    "<img src=\"unicamp.png\" width=\"150\" height=\"150\">"
   ]
  },
  {
   "cell_type": "markdown",
   "metadata": {},
   "source": [
    "## MO444/MC886 - Aprendizado de Máquina e Reconhecimento de Padrões\n",
    "\n",
    "Esse trabalho foi feito pelos seguintes membros:\n",
    "\n",
    "- Lucas Zanco Ladeira - 188951\n",
    "- Rafael Scherer - 204990 \n",
    "\n",
    "O código original deste projeto está disponível no [repositório do Github](https://github.com/lucaslzl/mo444_p2_supervised). "
   ]
  },
  {
   "cell_type": "markdown",
   "metadata": {},
   "source": [
    "## Modelos Supervisionados"
   ]
  },
  {
   "cell_type": "markdown",
   "metadata": {},
   "source": [
    "## Part I - Tarefa de Regressão\n",
    "\n",
    "<b>Declaração do problema</b> <br>\"Considere que você é um goleiro em uma partida de futebol robótico na RoboCup Teen Size League. Seu oponente vai chutar uma bola contra você. Seu objetivo é prever a posição da bola para interceptá-la, ou seja, defender seu gol!\""
   ]
  },
  {
   "cell_type": "markdown",
   "metadata": {},
   "source": [
    "### Descrição dos Dados\n",
    "\n",
    "Para este projeto foram utilizadas 2 bases de dados, sendo: <i>kick1.dat</i> e <i>kick2.dat</i>. Os dados compreendem a posição (x, y, z) da bola a cada 1/3 frames com uma frequência de 60 frames por segundo de um mesmo chute. A variável <i>x</i> compreende a posição da bola em relação a extensão do gol. A variável <i>y<i/> compreende a distância da bola até o gol. A variável <i>z</i> compreende a distância da bola em relação ao solo. Os valores das variáveis se estendem sendo <i>x = -3 até +3</i>, <i>y = 0 até 2.1</i>, <i>z = 0 até 0.3</i>. Para facilitar a busca pela posição final da bola (y = 0) o valor de y é \"negativado\". Sendo assim, ele cresce de um valor negativo até 0. É importante descrever os dados, de forma que seja possível observar a variação em cada base de dados."
   ]
  },
  {
   "cell_type": "code",
   "execution_count": 1,
   "metadata": {},
   "outputs": [
    {
     "data": {
      "text/html": [
       "<div>\n",
       "<style scoped>\n",
       "    .dataframe tbody tr th:only-of-type {\n",
       "        vertical-align: middle;\n",
       "    }\n",
       "\n",
       "    .dataframe tbody tr th {\n",
       "        vertical-align: top;\n",
       "    }\n",
       "\n",
       "    .dataframe thead th {\n",
       "        text-align: right;\n",
       "    }\n",
       "</style>\n",
       "<table border=\"1\" class=\"dataframe\">\n",
       "  <thead>\n",
       "    <tr style=\"text-align: right;\">\n",
       "      <th></th>\n",
       "      <th>x</th>\n",
       "      <th>y</th>\n",
       "      <th>z</th>\n",
       "    </tr>\n",
       "  </thead>\n",
       "  <tbody>\n",
       "    <tr>\n",
       "      <th>count</th>\n",
       "      <td>20.000000</td>\n",
       "      <td>20.000000</td>\n",
       "      <td>20.000000</td>\n",
       "    </tr>\n",
       "    <tr>\n",
       "      <th>mean</th>\n",
       "      <td>-0.727700</td>\n",
       "      <td>1.576650</td>\n",
       "      <td>0.119600</td>\n",
       "    </tr>\n",
       "    <tr>\n",
       "      <th>std</th>\n",
       "      <td>0.294473</td>\n",
       "      <td>0.295319</td>\n",
       "      <td>0.014605</td>\n",
       "    </tr>\n",
       "    <tr>\n",
       "      <th>min</th>\n",
       "      <td>-1.192000</td>\n",
       "      <td>1.109000</td>\n",
       "      <td>0.103000</td>\n",
       "    </tr>\n",
       "    <tr>\n",
       "      <th>25%</th>\n",
       "      <td>-0.974000</td>\n",
       "      <td>1.328750</td>\n",
       "      <td>0.109500</td>\n",
       "    </tr>\n",
       "    <tr>\n",
       "      <th>50%</th>\n",
       "      <td>-0.742500</td>\n",
       "      <td>1.589500</td>\n",
       "      <td>0.114000</td>\n",
       "    </tr>\n",
       "    <tr>\n",
       "      <th>75%</th>\n",
       "      <td>-0.519000</td>\n",
       "      <td>1.815500</td>\n",
       "      <td>0.128250</td>\n",
       "    </tr>\n",
       "    <tr>\n",
       "      <th>max</th>\n",
       "      <td>-0.210000</td>\n",
       "      <td>2.048000</td>\n",
       "      <td>0.149000</td>\n",
       "    </tr>\n",
       "  </tbody>\n",
       "</table>\n",
       "</div>"
      ],
      "text/plain": [
       "               x          y          z\n",
       "count  20.000000  20.000000  20.000000\n",
       "mean   -0.727700   1.576650   0.119600\n",
       "std     0.294473   0.295319   0.014605\n",
       "min    -1.192000   1.109000   0.103000\n",
       "25%    -0.974000   1.328750   0.109500\n",
       "50%    -0.742500   1.589500   0.114000\n",
       "75%    -0.519000   1.815500   0.128250\n",
       "max    -0.210000   2.048000   0.149000"
      ]
     },
     "execution_count": 1,
     "metadata": {},
     "output_type": "execute_result"
    }
   ],
   "source": [
    "import pandas as pd\n",
    "\n",
    "df = pd.read_csv('./datasets/kick1.dat', sep=' ')\n",
    "\n",
    "df.describe()"
   ]
  },
  {
   "cell_type": "code",
   "execution_count": 2,
   "metadata": {},
   "outputs": [
    {
     "data": {
      "text/html": [
       "<div>\n",
       "<style scoped>\n",
       "    .dataframe tbody tr th:only-of-type {\n",
       "        vertical-align: middle;\n",
       "    }\n",
       "\n",
       "    .dataframe tbody tr th {\n",
       "        vertical-align: top;\n",
       "    }\n",
       "\n",
       "    .dataframe thead th {\n",
       "        text-align: right;\n",
       "    }\n",
       "</style>\n",
       "<table border=\"1\" class=\"dataframe\">\n",
       "  <thead>\n",
       "    <tr style=\"text-align: right;\">\n",
       "      <th></th>\n",
       "      <th>x</th>\n",
       "      <th>y</th>\n",
       "      <th>z</th>\n",
       "    </tr>\n",
       "  </thead>\n",
       "  <tbody>\n",
       "    <tr>\n",
       "      <th>count</th>\n",
       "      <td>20.000000</td>\n",
       "      <td>20.000000</td>\n",
       "      <td>20.000000</td>\n",
       "    </tr>\n",
       "    <tr>\n",
       "      <th>mean</th>\n",
       "      <td>-0.363200</td>\n",
       "      <td>1.576650</td>\n",
       "      <td>0.237800</td>\n",
       "    </tr>\n",
       "    <tr>\n",
       "      <th>std</th>\n",
       "      <td>0.146036</td>\n",
       "      <td>0.295319</td>\n",
       "      <td>0.047159</td>\n",
       "    </tr>\n",
       "    <tr>\n",
       "      <th>min</th>\n",
       "      <td>-0.596000</td>\n",
       "      <td>1.109000</td>\n",
       "      <td>0.145000</td>\n",
       "    </tr>\n",
       "    <tr>\n",
       "      <th>25%</th>\n",
       "      <td>-0.491500</td>\n",
       "      <td>1.328750</td>\n",
       "      <td>0.207750</td>\n",
       "    </tr>\n",
       "    <tr>\n",
       "      <th>50%</th>\n",
       "      <td>-0.361000</td>\n",
       "      <td>1.589500</td>\n",
       "      <td>0.247000</td>\n",
       "    </tr>\n",
       "    <tr>\n",
       "      <th>75%</th>\n",
       "      <td>-0.257000</td>\n",
       "      <td>1.815500</td>\n",
       "      <td>0.280250</td>\n",
       "    </tr>\n",
       "    <tr>\n",
       "      <th>max</th>\n",
       "      <td>-0.105000</td>\n",
       "      <td>2.048000</td>\n",
       "      <td>0.296000</td>\n",
       "    </tr>\n",
       "  </tbody>\n",
       "</table>\n",
       "</div>"
      ],
      "text/plain": [
       "               x          y          z\n",
       "count  20.000000  20.000000  20.000000\n",
       "mean   -0.363200   1.576650   0.237800\n",
       "std     0.146036   0.295319   0.047159\n",
       "min    -0.596000   1.109000   0.145000\n",
       "25%    -0.491500   1.328750   0.207750\n",
       "50%    -0.361000   1.589500   0.247000\n",
       "75%    -0.257000   1.815500   0.280250\n",
       "max    -0.105000   2.048000   0.296000"
      ]
     },
     "execution_count": 2,
     "metadata": {},
     "output_type": "execute_result"
    }
   ],
   "source": [
    "df = pd.read_csv('./datasets/kick2.dat', sep=' ')\n",
    "\n",
    "df.describe()"
   ]
  },
  {
   "cell_type": "markdown",
   "metadata": {},
   "source": [
    "Podemos ver que ambos os chutes começam na esquerda do goleiro, pois tem valor mínimo negativo. Além disso, para a primeira base de dados a altura máxima atingida até o momento com distância <i>y</i> de 1.1 do gol é de metade da altura máxima (1.5). Na segunda base de dados, a altura atingida é de quase máxima (2.9) até a distância de 1.1 do gol."
   ]
  },
  {
   "cell_type": "markdown",
   "metadata": {},
   "source": [
    "### Metodologia\n",
    "\n",
    "Os experimentos foram executados com 1000 iterações. A configuração dos experimentos varia de acordo com o dataset utilizado, o valor de <i>alpha</i>, e o grau da função de otimização. Sendo assim, os valores utilizados em ordem compreendem:\n",
    "\n",
    "- Dataset\n",
    "    - kick1.dat\n",
    "    - kick2.dat\n",
    "    \n",
    "- Alpha ($\\alpha$)\n",
    "    - 0.01\n",
    "    - 0.05\n",
    "    - 0.001\n",
    "    \n",
    "- Grau da função\n",
    "    - Linear\n",
    "    - Polinomial\n",
    "    \n",
    "- Cálculo do erro:\n",
    "    - Mean Squared Error (MSE)\n",
    "    \n",
    "São executadas todas as possíveis combinações as quais geram um grande número de resultados distintos, portanto, serão apenas descritos resultados selecionados de forma para apresentar o funcionamento do que foi implementado.\n",
    "\n",
    "A função linear se refere a: $$y = \\theta_0 \\cdot x_0 + \\theta_1 \\cdot x_1 + \\theta_2$$\n",
    "\n",
    "Já a função polinomial se refere a: $$y = \\theta_0 \\cdot x^2_0 + \\theta_1 \\cdot x^2_1 + \\theta_2$$ \n",
    "\n",
    "É necessário mencionar que o algoritmo foi implementado de forma a aceitar uma lista de valores $x$, os quais geram $\\theta$s aleatórios, e buscam esses $x$s na base de dados de entrada. \n",
    "\n",
    "Considerando as variáveis $x$, $y$ e $z$ como descritas no enunciado do trabalho, para o cálculo do valor de $x$ foi utilizada, em ambas as funções, apenas o $y$. O mesmo vale para o $z$. Sendo assim, apenas é considerado o $y$ para calcular $x$ e $z$ separadamente."
   ]
  },
  {
   "cell_type": "markdown",
   "metadata": {},
   "source": [
    "### Código Fonte\n",
    "\n",
    "O código fonte de ambas as implementações (Linear e Polinomial) tem o mesmo conjunto de métodos, sendo eles:\n",
    "\n",
    "- function<br>\n",
    "Faz o cálculo da função desejada.\n",
    "<br>\n",
    "- mse<br>\n",
    "Faz o cálculo do MSE considerando a multiplicação pela variável ao lado de $\\theta$ caso exista.\n",
    "<br>\n",
    "\n",
    "- update_theta<br>\n",
    "Faz a chamada para o cálculo do MSE e atualiza o $\\theta$ de acordo com o $\\alpha$.\n",
    "<br>\n",
    "\n",
    "- fit<br>\n",
    "Chama a atualização dos $\\theta$s uma quantidade fixa de vezes.\n",
    "<br>\n",
    "\n",
    "- get_thetas<br>\n",
    "Retorna os valores de $\\theta$s ao chamar.\n",
    "<br>\n",
    "\n",
    "- predict<br>\n",
    "Calcula o resultado da função.\n",
    "<br>\n",
    "\n",
    "- get_mse<br>\n",
    "Retorna todos os valores obtidos durante o cálculo do MSE para cada $\\theta$."
   ]
  },
  {
   "cell_type": "markdown",
   "metadata": {},
   "source": [
    "#### LinearGradient"
   ]
  },
  {
   "cell_type": "code",
   "execution_count": null,
   "metadata": {},
   "outputs": [],
   "source": [
    "class LinearGradient:\n",
    "    \"\"\"\n",
    "        Linear Gradient Descent\n",
    "        y = theta_0*1 + theta_1*x_1 + theta_2*x_2\n",
    "    \"\"\"\n",
    "\n",
    "\n",
    "    def __init__(self, data: pd.DataFrame, x: list, y: str, alpha=0.01):\n",
    "        \n",
    "        self.data = data\n",
    "        self.x = x\n",
    "        self.y = y\n",
    "        self.alpha = alpha\n",
    "        np.random.seed(42)\n",
    "        self.thetas = np.random.rand(len(x)+1)\n",
    "\n",
    "        # Add theta_0 column\n",
    "        self.data['joker'] = [1] * self.data.shape[0]\n",
    "        self.x.append('joker')\n",
    "\n",
    "        self.calculated_mse = []\n",
    "\n",
    "\n",
    "    def function(self, row):\n",
    "        \n",
    "        ys = [row[c]*self.thetas[i] for i, c in enumerate(self.x)]\n",
    "        ys = np.sum(ys)\n",
    "        return (ys - row[self.y])\n",
    "\n",
    "\n",
    "    def mse(self, i):\n",
    "        \n",
    "        summ = 0\n",
    "\n",
    "        for indx, row in self.data.iterrows():\n",
    "            summ += self.function(row) * row[self.x[i]]\n",
    "\n",
    "        result = summ / self.data.shape[0]\n",
    "\n",
    "        self.calculated_mse.append(result)\n",
    "\n",
    "        return result\n",
    "\n",
    "\n",
    "    def update_theta(self):\n",
    "        \n",
    "        tmp_thetas = []\n",
    "\n",
    "        for i, theta in enumerate(self.thetas):\n",
    "\n",
    "            tmp_theta = theta - self.alpha * self.mse(i)\n",
    "            tmp_thetas.append(tmp_theta)\n",
    "\n",
    "        self.thetas = tmp_thetas\n",
    "\n",
    "\n",
    "    def fit(self, data):\n",
    "\n",
    "        for steps in tqdm(range(1000)):\n",
    "            self.update_theta()\n",
    "\n",
    "\n",
    "    def get_thetas(self):\n",
    "        return self.thetas\n",
    "\n",
    "    \n",
    "    def predict(self, values: list):\n",
    "\n",
    "        values.append(1)\n",
    "\n",
    "        res = 0\n",
    "        for i, theta in enumerate(self.thetas):\n",
    "            res += theta * values[i]\n",
    "\n",
    "        return res\n",
    "    \n",
    "    \n",
    "    def get_mse(self):\n",
    "        return self.calculated_mse"
   ]
  },
  {
   "cell_type": "markdown",
   "metadata": {},
   "source": [
    "#### PolynomialGradient"
   ]
  },
  {
   "cell_type": "code",
   "execution_count": null,
   "metadata": {},
   "outputs": [],
   "source": [
    "class PolynomialGradient:\n",
    "    \"\"\"\n",
    "        Polinomial Gradient Descent\n",
    "        y = theta_0*1 + theta_1*(x_1**2) + theta_2*(x_1)\n",
    "    \"\"\"\n",
    "\n",
    "\n",
    "    def __init__(self, data: pd.DataFrame, x: list, y: str, alpha=0.01):\n",
    "        \n",
    "        self.data = data\n",
    "        self.x = x\n",
    "        self.y = y\n",
    "        self.alpha = alpha\n",
    "        self.thetas = np.random.rand(len(x)+1)\n",
    "\n",
    "        # Add theta_0 column\n",
    "        self.data['joker'] = [1] * self.data.shape[0]\n",
    "        self.x.append('joker')\n",
    "\n",
    "        self.calculated_mse = []\n",
    "\n",
    "\n",
    "    def function(self, row):\n",
    "        \n",
    "        ys = [self.thetas[i]*(row[c]**2) for i, c in enumerate(self.x)]\n",
    "        ys = np.sum(ys)\n",
    "        return (ys - row[self.y])\n",
    "\n",
    "\n",
    "    def mse(self, i):\n",
    "        \n",
    "        summ = 0\n",
    "\n",
    "        for indx, row in self.data.iterrows():\n",
    "            summ += self.function(row) * row[self.x[i]]**2\n",
    "\n",
    "        result = summ / self.data.shape[0]\n",
    "\n",
    "        self.calculated_mse.append(result)\n",
    "\n",
    "        return result\n",
    "\n",
    "\n",
    "    def update_theta(self):\n",
    "        \n",
    "        tmp_thetas = []\n",
    "\n",
    "        for i, theta in enumerate(self.thetas):\n",
    "\n",
    "            tmp_theta = theta - self.alpha * self.mse(i)\n",
    "            tmp_thetas.append(tmp_theta)\n",
    "\n",
    "        self.thetas = tmp_thetas\n",
    "\n",
    "\n",
    "    def fit(self, data):\n",
    "\n",
    "        for steps in tqdm(range(1000)):\n",
    "            self.update_theta()\n",
    "\n",
    "\n",
    "    def get_thetas(self):\n",
    "        return self.thetas\n",
    "\n",
    "\n",
    "    def predict(self, values: list):\n",
    "\n",
    "        values.append(1)\n",
    "\n",
    "        res = 0\n",
    "        for i, theta in enumerate(self.thetas):\n",
    "            res += theta * (values[i]**2)\n",
    "\n",
    "        return res\n",
    "\n",
    "    \n",
    "    def get_mse(self):\n",
    "        return self.calculated_mse"
   ]
  },
  {
   "cell_type": "markdown",
   "metadata": {},
   "source": [
    "### Resultados\n",
    "\n",
    "Os resultados compreendem comparações entre as funções obtidas e os dados de entrada. Como também, comparações entre os diferentes parâmetros iniciais e o MSE obtido.\n",
    "\n",
    "<b>Modelos Obtidos</b>\n",
    "\n",
    "Nas figuras a seguir é possível observar as seguintes características: os dados de cada base de dados, representados por círculos; a reta ou parábola gerada pelas funções linear e polinomial respectivamente; um desenho do campo igual ao encontrado no enunciado do trabalho; a trave; e por fim, um retângulo azul claro que representa a área que o goleiro consegue defender. Para a última foi considerado um alcance em $x$ de 1 metro para cada lado. <b>As funções apresentadas nesta seção utilizam as variáveis do enunciado para facilitar o entendimento</b>.\n",
    "\n",
    "Primeiramente serão apresentados os resultados da base de dados kick1, com função linear, para todos os valores de $\\alpha$. Os valores resultantes aproximados para cada $\\theta$ compreendem:\n",
    "\n",
    "- $\\alpha = 0.01$\n",
    "    - $ z = y \\cdot 0.374 + 0.724$\n",
    "    - $ x = y \\cdot 0.457 + 0.047$\n",
    "\n",
    "- $\\alpha = 0.05$\n",
    "    - $ z = y \\cdot 0.141 + 0.347$\n",
    "    - $ x = y \\cdot -0.423 - 1.373$\n",
    "    \n",
    "- $\\alpha = 0.001$\n",
    "    - $ z = y \\cdot 0.461 + 0.871$\n",
    "    - $ x = y \\cdot 0.782 + 0.603$\n",
    "    \n",
    "Podemos observar que para os valores de $\\alpha$ iguais a 0.01 e 0.001, a trajetória da bola passa por cima do trave e do goleiro. Já para $\\alpha$ igual a 0.05 quase foi gol, sendo fora do alcance do goleiro mas ainda acima da altura da trave. Além disso, a reta descreve o comportamento dos dados para os eixos $x$ e $y$. Vemos uma diferença mais clara nos valores preditos de $z$ pela variação da altitude observada nos dados de entrada.\n",
    "\n",
    "<table><tr><td><img src='plots/kick1.dat_LinearGradient_0.01.png'></td><td><img src='plots/kick1.dat_LinearGradient_0.05.png'></td><td><img src='plots/kick1.dat_LinearGradient_0.001.png'></td></tr></table>\n",
    "\n",
    "Agora serão apresentados os resultados da base de dados kick1, com função polinomial, para todos os valores de $\\alpha$. Os valores resultantes aproximados para cada $\\theta$ compreendem:\n",
    "\n",
    "- $\\alpha = 0.01$\n",
    "    - $ z = y \\cdot -0.023 + 0.187$\n",
    "    - $ x = y \\cdot 0.112 - 0.959$\n",
    "\n",
    "- $\\alpha = 0.05$\n",
    "    - $ z = y \\cdot 0.002 + 0.112$\n",
    "    - $ x = y \\cdot 0.309 - 1.522$\n",
    "    \n",
    "- $\\alpha = 0.001$\n",
    "    - $ z = y \\cdot -0.062 + 0.298$\n",
    "    - $ x = y \\cdot -0.179 - 0.126$\n",
    "    \n",
    "Podemos observar que para os valores de $\\alpha$ iguais a 0.01 e 0.001 o goleiro conseguiu defender, sendo que, a bola iria entrar no gol. Já para $\\alpha$ igual a 0.05 foi gol, passando fora do alcance do goleiro. No entanto, ao observar a distribuição dos dados e os valores preditos pela função vemos que o comportamento é um pouco diferente do esperado nos eixos $x$ e $z$. Portanto, para $\\alpha$ igual a 0.05 o comportamento é bem mais próximo do esperado.\n",
    "\n",
    "<table><tr><td><img src='plots/kick1.dat_PolinomialGradient_0.01.png'></td><td><img src='plots/kick1.dat_PolinomialGradient_0.05.png'></td><td><img src='plots/kick1.dat_PolinomialGradient_0.001.png'></td></tr></table>\n",
    "\n",
    "Serão apresentados os resultados da base de dados kick2, com função linear, para todos os valores de $\\alpha$. Os valores resultantes aproximados para cada $\\theta$ compreendem:\n",
    "\n",
    "- $\\alpha = 0.01$\n",
    "    - $ z = y \\cdot 0.367 + 0.825$\n",
    "    - $ x = y \\cdot 0.438 + 0.363$\n",
    "\n",
    "- $\\alpha = 0.05$\n",
    "    - $ z = y \\cdot0.234 + 0.61$\n",
    "    - $ x = y \\cdot -0.126 - 0.548$\n",
    "    \n",
    "- $\\alpha = 0.001$\n",
    "    - $ z = y \\cdot 0.417 + 0.909$\n",
    "    - $ x = y \\cdot 0.647 + 0.72$\n",
    "    \n",
    "Podemos observar que para todos os valores de $\\alpha$ a trajetória da bola passa por cima do trave e do goleiro. Para o valor de $\\alpha$ igual a 0.05, vemos que existe uma diferença comparado com os outros valores de $\\alpha$ no eixo $z$. Esse mesmo comportamento é observado para função linear na base de dados kick1.\n",
    "\n",
    "<table><tr><td><img src='plots/kick2.dat_LinearGradient_0.01.png'></td><td><img src='plots/kick2.dat_LinearGradient_0.05.png'></td><td><img src='plots/kick2.dat_LinearGradient_0.001.png'></td></tr></table>\n",
    "\n",
    "Serão apresentados os resultados da base de dados kick2, com função polinomial, para todos os valores de $\\alpha$. Os valores resultantes aproximados para cada $\\theta$ compreendem:\n",
    "\n",
    "- $\\alpha = 0.01$\n",
    "    - $ z = y \\cdot -0.043 + 0.348$\n",
    "    - $ x = y \\cdot 0.049 - 0.46$\n",
    "\n",
    "- $\\alpha = 0.05$\n",
    "    - $ z = y \\cdot -0.047 + 0.36$\n",
    "    - $ x = y \\cdot 0.153 - 0.756$\n",
    "    \n",
    "- $\\alpha = 0.001$\n",
    "    - $ z = y \\cdot -0.037 + 0.332$\n",
    "    - $ x = y \\cdot -0.103 - 0.022$\n",
    "    \n",
    "Podemos observar que para todos os valores de $\\alpha$ o goleiro conseguiu defender a bola, mesmo que, a trajetória predita iria para fora do gol. Comparando o comportamento dos dados e os valores preditos pela função vemos uma diferença grande para $\\alpha$ igual a 0.001, sendo que, é possível que 1000 iterações não tenha sido suficiente para obter um resultado melhor.\n",
    "\n",
    "<table><tr><td><img src='plots/kick2.dat_PolinomialGradient_0.01.png'></td><td><img src='plots/kick2.dat_PolinomialGradient_0.05.png'></td><td><img src='plots/kick2.dat_PolinomialGradient_0.001.png'></td></tr></table>\n",
    "\n",
    "<b>Variação dos valores de $\\alpha$</b>\n",
    "\n",
    "A figura a seguir apresenta os resultados obtidos pelo cálculo de MSE para a primeira base de dados com o método gradiente descendente para a variável $x$ do enunciado. Como os resultados são bem próximos para ambas as bases, como também, para a variável $z$ do enunciado, não serão descritos no relatório. No entanto, é possível verificar na pasta \"plots\" esses resultados. Como no eixo x estão apresentados todos os valores de $\\theta$, então com 2 $\\theta$s na equação e com 1000 iterações temos 2000 valores de MSE.\n",
    "\n",
    "<table><tr><td><img src='plots/mses_kick1.dat_LinearGradient.png'></td><td><img src='plots/mses_kick1.dat_PolinomialGradient.png'></td></tr></table>\n",
    "\n",
    "Na figura da função linear, podemos observar que para $\\alpha = 0.01$ o modelo demora várias iterações para chegar a um valor próximo de 0. Aproximadamente este valor de $\\alpha$ leva 800 iterações para chegar no valor mínimo de erro. Já para $\\alpha = 0.05$ foi possível chegar ao valor mínimo com cerca de 250 iterações. Por fim, com $\\alpha = 0.001$ foi possível chegar ao valor mínimo de erro com cerca de 100 iterações. O mesmo comportamento pode ser observado para a função polinomial, sendo que, ambas as funções utilizam o valor da variável, ao quadrado ou não, multiplicado por $\\theta_0$ e somado com um $\\theta_1$."
   ]
  },
  {
   "cell_type": "markdown",
   "metadata": {},
   "source": [
    "<b>Considerações Finais</b>\n",
    "\n",
    "Foi observado nos resultados o impacto do valor de $\\alpha$ para diminuir o erro, sendo que, encontramos valores de mínimo local para as funções polinomiais em ambas as bases de dados com $\\alpha$ igual a 0.001. Para usar o método do gradiente descendente é necessário escolher bem a função utilizada (tanto como o grau da função) e o valor de $\\alpha$. Como neste trabalho não foi necessário avaliar diferentes funções para identificar a melhor para estes conjuntos de dados, então, ficamos satisfeitos com os resultados mostrando que o algoritmo proposto foi implementado corretamento."
   ]
  },
  {
   "cell_type": "markdown",
   "metadata": {},
   "source": [
    "## Part II - Classification Task\n",
    "\n",
    "<b>Problem statement</b><br>\n",
    "\"You should solve a classification task using supervised learning methods. For this task, you can use libraries that implement the methods you want to use. For this task, we will employ the Pen-Based Recognition of Handwritten Digits Data Set. It is a simple and well-known image bank for image recognition. It consists of 8-by-8-pixel gray-scale images divided into 10 classes of digits.\""
   ]
  },
  {
   "cell_type": "markdown",
   "metadata": {},
   "source": [
    "### Dependências"
   ]
  },
  {
   "cell_type": "code",
   "execution_count": 5,
   "metadata": {
    "pycharm": {
     "name": "#%%\n"
    }
   },
   "outputs": [
    {
     "name": "stdout",
     "output_type": "stream",
     "text": [
      "Requirement already satisfied: umap-learn in c:\\users\\rafae\\anaconda3\\envs\\void\\lib\\site-packages (0.5.1)\n",
      "Requirement already satisfied: scikit-learn>=0.22 in c:\\users\\rafae\\anaconda3\\envs\\void\\lib\\site-packages (from umap-learn) (0.24.1)\n",
      "Requirement already satisfied: scipy>=1.0 in c:\\users\\rafae\\anaconda3\\envs\\void\\lib\\site-packages (from umap-learn) (1.6.1)\n",
      "Requirement already satisfied: numba>=0.49 in c:\\users\\rafae\\anaconda3\\envs\\void\\lib\\site-packages (from umap-learn) (0.53.1)\n",
      "Requirement already satisfied: numpy>=1.17 in c:\\users\\rafae\\anaconda3\\envs\\void\\lib\\site-packages (from umap-learn) (1.19.2)\n",
      "Requirement already satisfied: pynndescent>=0.5 in c:\\users\\rafae\\anaconda3\\envs\\void\\lib\\site-packages (from umap-learn) (0.5.2)\n",
      "Requirement already satisfied: llvmlite<0.37,>=0.36.0rc1 in c:\\users\\rafae\\anaconda3\\envs\\void\\lib\\site-packages (from numba>=0.49->umap-learn) (0.36.0)\n",
      "Requirement already satisfied: setuptools in c:\\users\\rafae\\anaconda3\\envs\\void\\lib\\site-packages (from numba>=0.49->umap-learn) (52.0.0.post20210125)\n",
      "Requirement already satisfied: joblib>=0.11 in c:\\users\\rafae\\anaconda3\\envs\\void\\lib\\site-packages (from pynndescent>=0.5->umap-learn) (1.0.1)\n",
      "Requirement already satisfied: threadpoolctl>=2.0.0 in c:\\users\\rafae\\anaconda3\\envs\\void\\lib\\site-packages (from scikit-learn>=0.22->umap-learn) (2.1.0)\n"
     ]
    }
   ],
   "source": [
    "import sys\n",
    "!{sys.executable} -m pip install umap-learn"
   ]
  },
  {
   "cell_type": "markdown",
   "metadata": {},
   "source": [
    "### Imports"
   ]
  },
  {
   "cell_type": "code",
   "execution_count": 15,
   "metadata": {
    "pycharm": {
     "name": "#%%\n"
    }
   },
   "outputs": [],
   "source": [
    "import numpy as np\n",
    "import pandas as pd\n",
    "from sklearn.datasets import load_digits\n",
    "from sklearn.model_selection import train_test_split\n",
    "from sklearn.preprocessing import Normalizer\n",
    "import umap\n",
    "import matplotlib.pyplot as plt\n",
    "import seaborn as sns\n",
    "from sklearn.svm import SVC\n",
    "from sklearn import metrics\n",
    "from sklearn.model_selection import RandomizedSearchCV, GridSearchCV\n",
    "from sklearn.ensemble import RandomForestClassifier\n",
    "import matplotlib.gridspec as gridspec"
   ]
  },
  {
   "cell_type": "markdown",
   "metadata": {},
   "source": [
    "#### Definindo seed para geração de valores aleatórios"
   ]
  },
  {
   "cell_type": "code",
   "execution_count": 16,
   "metadata": {
    "pycharm": {
     "name": "#%%\n"
    }
   },
   "outputs": [],
   "source": [
    "seed = 1337"
   ]
  },
  {
   "cell_type": "markdown",
   "metadata": {},
   "source": [
    "#### Carregando os dados"
   ]
  },
  {
   "cell_type": "code",
   "execution_count": 17,
   "metadata": {
    "pycharm": {
     "name": "#%%\n"
    }
   },
   "outputs": [],
   "source": [
    "dataset = load_digits()"
   ]
  },
  {
   "cell_type": "markdown",
   "metadata": {},
   "source": [
    "### Descrição dos dados\n",
    "\n",
    "Para esta tarefa, foi utilizado o conjunto de dados MNIST, que contém milhares de imagens digitalizadas de dígitos manuscritos.\n",
    "<br>Há um total de 1797 imagens e cada imagem é representada por uma matriz quadrada de dimensão 8, totalizando 64 atributos, com valores na escala de cinza, variando de 0 a 16.\n",
    "<br>Por fim, para cada imagem, há um label associado, que indica qual número está a ser representado na imagem, havendo um total de 10 valores possíveis, que são os dígitos de 0 a 9."
   ]
  },
  {
   "cell_type": "code",
   "execution_count": 18,
   "metadata": {
    "pycharm": {
     "name": "#%%\n"
    }
   },
   "outputs": [
    {
     "name": "stdout",
     "output_type": "stream",
     "text": [
      "Formato das imagens: (1797, 8, 8)\n",
      "Possíveis labels: [0 1 2 3 4 5 6 7 8 9]\n",
      "Menor valor na representação das imagens: 0.0\n",
      "Maior valor na representação das imagens: 16.0\n"
     ]
    }
   ],
   "source": [
    "print('Formato das imagens: {}'.format(dataset.images.shape))\n",
    "print('Possíveis labels: {}'.format(dataset.target_names))\n",
    "print('Menor valor na representação das imagens: {}'.format(np.ravel(dataset.images).min()))\n",
    "print('Maior valor na representação das imagens: {}'.format(np.ravel(dataset.images).max()))"
   ]
  },
  {
   "cell_type": "markdown",
   "metadata": {},
   "source": [
    "#### Distribuição dos valores"
   ]
  },
  {
   "cell_type": "code",
   "execution_count": 19,
   "metadata": {
    "pycharm": {
     "name": "#%%\n"
    }
   },
   "outputs": [
    {
     "data": {
      "image/png": "[encoded data removed]",
      "text/plain": [
       "<Figure size 432x288 with 1 Axes>"
      ]
     },
     "metadata": {
      "needs_background": "light"
     },
     "output_type": "display_data"
    }
   ],
   "source": [
    "sns.countplot(data=pd.DataFrame(dataset.target), x=0)\n",
    "plt.title('Quantidade de imagens por dígito')\n",
    "plt.xlabel('Dígito')\n",
    "plt.ylabel('Quantidade')\n",
    "plt.show()"
   ]
  },
  {
   "cell_type": "markdown",
   "metadata": {},
   "source": [
    "Pelo gráfico acima, nota-se que o conjunto de dados apresenta uma distribuição equilibrada em relação aos dígitos, havendo, em média, cerca de 180 imagens por dígito."
   ]
  },
  {
   "cell_type": "markdown",
   "metadata": {},
   "source": [
    "#### Exemplos"
   ]
  },
  {
   "cell_type": "code",
   "execution_count": 20,
   "metadata": {
    "pycharm": {
     "name": "#%%\n"
    }
   },
   "outputs": [
    {
     "data": {
      "image/png": "[encoded data removed]",
      "text/plain": [
       "<Figure size 576x576 with 10 Axes>"
      ]
     },
     "metadata": {
      "needs_background": "light"
     },
     "output_type": "display_data"
    }
   ],
   "source": [
    "fig = plt.figure(figsize = (8,8))\n",
    "fig.suptitle('Exemplos de digitos')\n",
    "gs1 = gridspec.GridSpec(4, 4)\n",
    "gs1.update(wspace=0.025, hspace=0.2) # set the spacing between axes.\n",
    "\n",
    "for i in range(10):\n",
    "    image = dataset.images[i]\n",
    "    label = dataset.target[i]\n",
    "    ax1 = plt.subplot(gs1[i])\n",
    "    ax1.imshow(image, cmap='gray')\n",
    "    ax1.set_title('Digito {}'.format(i))\n",
    "    ax1.set_aspect('equal')\n",
    "    ax1.grid(color='white')\n",
    "    plt.axis('off')\n",
    "\n",
    "plt.show()"
   ]
  },
  {
   "cell_type": "markdown",
   "metadata": {},
   "source": [
    "#### Visualização dos dados"
   ]
  },
  {
   "cell_type": "code",
   "execution_count": 21,
   "metadata": {
    "pycharm": {
     "name": "#%%\n"
    }
   },
   "outputs": [
    {
     "data": {
      "image/png": "[encoded data removed]",
      "text/plain": [
       "<Figure size 1008x720 with 2 Axes>"
      ]
     },
     "metadata": {
      "needs_background": "light"
     },
     "output_type": "display_data"
    }
   ],
   "source": [
    "embedding = umap.UMAP(n_neighbors=5, random_state=seed).fit_transform(dataset.data)\n",
    "fig, ax = plt.subplots(1, figsize=(14, 10))\n",
    "plt.scatter(*embedding.T, s=0.1, c=dataset.target, cmap='hsv', alpha=1.0)\n",
    "plt.setp(ax, xticks=[], yticks=[])\n",
    "cbar = plt.colorbar(boundaries=np.arange(11)-0.5)\n",
    "cbar.set_ticks(np.arange(10))\n",
    "cbar.set_ticklabels(dataset.target_names)\n",
    "plt.title('Visualização MNIST via UMAP com Labels')\n",
    "plt.show()"
   ]
  },
  {
   "cell_type": "markdown",
   "metadata": {},
   "source": [
    "## Contribuições\n",
    "<br>\n",
    "O membro do grupo <b>Lucas Zanco Ladeira</b> contribuiu com toda a implementação, validação e escrita da parte I deste trabalho.\n",
    "\n",
    "O membro do grupo <b>Rafael Scherer</b> contribuiu com toda a implementação, validação e escrita da parte II deste trabalho."
   ]
  }
 ],
 "metadata": {
  "kernelspec": {
   "display_name": "Python 3",
   "language": "python",
   "name": "python3"
  },
  "language_info": {
   "codemirror_mode": {
    "name": "ipython",
    "version": 3
   },
   "file_extension": ".py",
   "mimetype": "text/x-python",
   "name": "python",
   "nbconvert_exporter": "python",
   "pygments_lexer": "ipython3",
   "version": "3.8.7"
  }
 },
 "nbformat": 4,
 "nbformat_minor": 4
}
